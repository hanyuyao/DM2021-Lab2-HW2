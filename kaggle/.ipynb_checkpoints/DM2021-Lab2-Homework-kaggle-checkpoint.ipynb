{
 "cells": [
  {
   "cell_type": "markdown",
   "id": "a6ecd29c",
   "metadata": {},
   "source": [
    "### Student Information\n",
    "Name: 姚瀚宇\n",
    "\n",
    "Student ID: 110062542\n",
    "\n",
    "GitHub ID: 51129597\n",
    "\n",
    "Kaggle name: hanyuyao\n",
    "\n",
    "Kaggle private scoreboard snapshot:\n",
    "\n",
    "[Snapshot](pic0.png)"
   ]
  },
  {
   "cell_type": "markdown",
   "id": "d5a47ff2",
   "metadata": {},
   "source": [
    "### Kaggle Competition - part1"
   ]
  },
  {
   "cell_type": "markdown",
   "id": "76ea9830",
   "metadata": {},
   "source": [
    "### Read data and plot statistical figures\n",
    "\n",
    "#### 1. Read data_identification.csv"
   ]
  },
  {
   "cell_type": "code",
   "execution_count": 1,
   "id": "464d0486",
   "metadata": {
    "scrolled": false
   },
   "outputs": [
    {
     "data": {
      "text/html": [
       "<div>\n",
       "<style scoped>\n",
       "    .dataframe tbody tr th:only-of-type {\n",
       "        vertical-align: middle;\n",
       "    }\n",
       "\n",
       "    .dataframe tbody tr th {\n",
       "        vertical-align: top;\n",
       "    }\n",
       "\n",
       "    .dataframe thead th {\n",
       "        text-align: right;\n",
       "    }\n",
       "</style>\n",
       "<table border=\"1\" class=\"dataframe\">\n",
       "  <thead>\n",
       "    <tr style=\"text-align: right;\">\n",
       "      <th></th>\n",
       "      <th>tweet_id</th>\n",
       "      <th>identification</th>\n",
       "    </tr>\n",
       "  </thead>\n",
       "  <tbody>\n",
       "    <tr>\n",
       "      <th>0</th>\n",
       "      <td>0x28cc61</td>\n",
       "      <td>test</td>\n",
       "    </tr>\n",
       "    <tr>\n",
       "      <th>1</th>\n",
       "      <td>0x29e452</td>\n",
       "      <td>train</td>\n",
       "    </tr>\n",
       "    <tr>\n",
       "      <th>2</th>\n",
       "      <td>0x2b3819</td>\n",
       "      <td>train</td>\n",
       "    </tr>\n",
       "    <tr>\n",
       "      <th>3</th>\n",
       "      <td>0x2db41f</td>\n",
       "      <td>test</td>\n",
       "    </tr>\n",
       "    <tr>\n",
       "      <th>4</th>\n",
       "      <td>0x2a2acc</td>\n",
       "      <td>train</td>\n",
       "    </tr>\n",
       "    <tr>\n",
       "      <th>...</th>\n",
       "      <td>...</td>\n",
       "      <td>...</td>\n",
       "    </tr>\n",
       "    <tr>\n",
       "      <th>1867530</th>\n",
       "      <td>0x227e25</td>\n",
       "      <td>train</td>\n",
       "    </tr>\n",
       "    <tr>\n",
       "      <th>1867531</th>\n",
       "      <td>0x293813</td>\n",
       "      <td>train</td>\n",
       "    </tr>\n",
       "    <tr>\n",
       "      <th>1867532</th>\n",
       "      <td>0x1e1a7e</td>\n",
       "      <td>train</td>\n",
       "    </tr>\n",
       "    <tr>\n",
       "      <th>1867533</th>\n",
       "      <td>0x2156a5</td>\n",
       "      <td>train</td>\n",
       "    </tr>\n",
       "    <tr>\n",
       "      <th>1867534</th>\n",
       "      <td>0x2bb9d2</td>\n",
       "      <td>train</td>\n",
       "    </tr>\n",
       "  </tbody>\n",
       "</table>\n",
       "<p>1867535 rows × 2 columns</p>\n",
       "</div>"
      ],
      "text/plain": [
       "         tweet_id identification\n",
       "0        0x28cc61           test\n",
       "1        0x29e452          train\n",
       "2        0x2b3819          train\n",
       "3        0x2db41f           test\n",
       "4        0x2a2acc          train\n",
       "...           ...            ...\n",
       "1867530  0x227e25          train\n",
       "1867531  0x293813          train\n",
       "1867532  0x1e1a7e          train\n",
       "1867533  0x2156a5          train\n",
       "1867534  0x2bb9d2          train\n",
       "\n",
       "[1867535 rows x 2 columns]"
      ]
     },
     "execution_count": 1,
     "metadata": {},
     "output_type": "execute_result"
    }
   ],
   "source": [
    "import pandas as pd\n",
    "\n",
    "train_test = pd.read_csv(\"data_identification.csv\")\n",
    "train_test"
   ]
  },
  {
   "cell_type": "code",
   "execution_count": 2,
   "id": "98daa727",
   "metadata": {
    "scrolled": true
   },
   "outputs": [
    {
     "data": {
      "text/plain": [
       "train    1455563\n",
       "test      411972\n",
       "Name: identification, dtype: int64"
      ]
     },
     "execution_count": 2,
     "metadata": {},
     "output_type": "execute_result"
    }
   ],
   "source": [
    "train_test.identification.value_counts()"
   ]
  },
  {
   "cell_type": "markdown",
   "id": "2d6bafb5",
   "metadata": {},
   "source": [
    "#### Plot train test distribution"
   ]
  },
  {
   "cell_type": "code",
   "execution_count": 3,
   "id": "a561c148",
   "metadata": {
    "scrolled": true
   },
   "outputs": [
    {
     "data": {
      "image/png": "[encoded data removed]",
      "text/plain": [
       "<Figure size 576x360 with 1 Axes>"
      ]
     },
     "metadata": {
      "needs_background": "light"
     },
     "output_type": "display_data"
    }
   ],
   "source": [
    "import matplotlib.pyplot as plt\n",
    "%matplotlib inline\n",
    "\n",
    "df_bar = pd.DataFrame({'Train or Test': train_test.identification.value_counts()},\n",
    "                        index=['train', 'test'])\n",
    "\n",
    "ax = df_bar.plot(kind = 'bar',\n",
    "                title = 'Train-Test distribution',       \n",
    "                rot = 0, fontsize = 12, figsize = (8,5))"
   ]
  },
  {
   "cell_type": "markdown",
   "id": "42e0c2f4",
   "metadata": {},
   "source": [
    "#### 2. Read emotion.csv"
   ]
  },
  {
   "cell_type": "code",
   "execution_count": 4,
   "id": "6364ea1e",
   "metadata": {
    "scrolled": false
   },
   "outputs": [
    {
     "data": {
      "text/html": [
       "<div>\n",
       "<style scoped>\n",
       "    .dataframe tbody tr th:only-of-type {\n",
       "        vertical-align: middle;\n",
       "    }\n",
       "\n",
       "    .dataframe tbody tr th {\n",
       "        vertical-align: top;\n",
       "    }\n",
       "\n",
       "    .dataframe thead th {\n",
       "        text-align: right;\n",
       "    }\n",
       "</style>\n",
       "<table border=\"1\" class=\"dataframe\">\n",
       "  <thead>\n",
       "    <tr style=\"text-align: right;\">\n",
       "      <th></th>\n",
       "      <th>tweet_id</th>\n",
       "      <th>emotion</th>\n",
       "    </tr>\n",
       "  </thead>\n",
       "  <tbody>\n",
       "    <tr>\n",
       "      <th>0</th>\n",
       "      <td>0x3140b1</td>\n",
       "      <td>sadness</td>\n",
       "    </tr>\n",
       "    <tr>\n",
       "      <th>1</th>\n",
       "      <td>0x368b73</td>\n",
       "      <td>disgust</td>\n",
       "    </tr>\n",
       "    <tr>\n",
       "      <th>2</th>\n",
       "      <td>0x296183</td>\n",
       "      <td>anticipation</td>\n",
       "    </tr>\n",
       "    <tr>\n",
       "      <th>3</th>\n",
       "      <td>0x2bd6e1</td>\n",
       "      <td>joy</td>\n",
       "    </tr>\n",
       "    <tr>\n",
       "      <th>4</th>\n",
       "      <td>0x2ee1dd</td>\n",
       "      <td>anticipation</td>\n",
       "    </tr>\n",
       "    <tr>\n",
       "      <th>...</th>\n",
       "      <td>...</td>\n",
       "      <td>...</td>\n",
       "    </tr>\n",
       "    <tr>\n",
       "      <th>1455558</th>\n",
       "      <td>0x38dba0</td>\n",
       "      <td>joy</td>\n",
       "    </tr>\n",
       "    <tr>\n",
       "      <th>1455559</th>\n",
       "      <td>0x300ea2</td>\n",
       "      <td>joy</td>\n",
       "    </tr>\n",
       "    <tr>\n",
       "      <th>1455560</th>\n",
       "      <td>0x360b99</td>\n",
       "      <td>fear</td>\n",
       "    </tr>\n",
       "    <tr>\n",
       "      <th>1455561</th>\n",
       "      <td>0x22eecf</td>\n",
       "      <td>joy</td>\n",
       "    </tr>\n",
       "    <tr>\n",
       "      <th>1455562</th>\n",
       "      <td>0x2fb282</td>\n",
       "      <td>anticipation</td>\n",
       "    </tr>\n",
       "  </tbody>\n",
       "</table>\n",
       "<p>1455563 rows × 2 columns</p>\n",
       "</div>"
      ],
      "text/plain": [
       "         tweet_id       emotion\n",
       "0        0x3140b1       sadness\n",
       "1        0x368b73       disgust\n",
       "2        0x296183  anticipation\n",
       "3        0x2bd6e1           joy\n",
       "4        0x2ee1dd  anticipation\n",
       "...           ...           ...\n",
       "1455558  0x38dba0           joy\n",
       "1455559  0x300ea2           joy\n",
       "1455560  0x360b99          fear\n",
       "1455561  0x22eecf           joy\n",
       "1455562  0x2fb282  anticipation\n",
       "\n",
       "[1455563 rows x 2 columns]"
      ]
     },
     "execution_count": 4,
     "metadata": {},
     "output_type": "execute_result"
    }
   ],
   "source": [
    "label = pd.read_csv(\"emotion.csv\")\n",
    "label"
   ]
  },
  {
   "cell_type": "markdown",
   "id": "60add699",
   "metadata": {},
   "source": [
    "#### Count label occurrences"
   ]
  },
  {
   "cell_type": "code",
   "execution_count": 5,
   "id": "3b8df753",
   "metadata": {
    "scrolled": true
   },
   "outputs": [
    {
     "data": {
      "text/plain": [
       "joy             516017\n",
       "anticipation    248935\n",
       "trust           205478\n",
       "sadness         193437\n",
       "disgust         139101\n",
       "fear             63999\n",
       "surprise         48729\n",
       "anger            39867\n",
       "Name: emotion, dtype: int64"
      ]
     },
     "execution_count": 5,
     "metadata": {},
     "output_type": "execute_result"
    }
   ],
   "source": [
    "label.emotion.value_counts()"
   ]
  },
  {
   "cell_type": "markdown",
   "id": "5d8d6ad6",
   "metadata": {},
   "source": [
    "#### Plot label distribution"
   ]
  },
  {
   "cell_type": "code",
   "execution_count": 6,
   "id": "ec016427",
   "metadata": {
    "scrolled": true
   },
   "outputs": [
    {
     "data": {
      "image/png": "[encoded data removed]",
      "text/plain": [
       "<Figure size 576x360 with 1 Axes>"
      ]
     },
     "metadata": {
      "needs_background": "light"
     },
     "output_type": "display_data"
    }
   ],
   "source": [
    "import matplotlib.pyplot as plt\n",
    "%matplotlib inline\n",
    "\n",
    "df_bar = pd.DataFrame({'Emotion': label.emotion.value_counts()},\n",
    "                        index=['joy', 'anticipation', 'trust', 'sadness', 'disgust', 'fear', 'surprise', 'anger'])\n",
    "\n",
    "ax = df_bar.plot(kind = 'bar',\n",
    "                title = 'Label distribution',       \n",
    "                rot = 0, fontsize = 12, figsize = (8,5))"
   ]
  },
  {
   "cell_type": "markdown",
   "id": "b4473d96",
   "metadata": {},
   "source": [
    "#### 3. Read tweets_DM.json"
   ]
  },
  {
   "cell_type": "code",
   "execution_count": 7,
   "id": "0dd1c694",
   "metadata": {},
   "outputs": [
    {
     "name": "stdout",
     "output_type": "stream",
     "text": [
      "<class 'dict'>\n"
     ]
    }
   ],
   "source": [
    "import json \n",
    "\n",
    "tweets = []\n",
    "for line in open('tweets_DM.json', 'r'):\n",
    "    tweets.append(json.loads(line))\n",
    "\n",
    "print(type(tweets[0]))"
   ]
  },
  {
   "cell_type": "markdown",
   "id": "3d30bb8f",
   "metadata": {},
   "source": [
    "#### Transform time to seconds"
   ]
  },
  {
   "cell_type": "code",
   "execution_count": 8,
   "id": "1810fe18",
   "metadata": {},
   "outputs": [
    {
     "name": "stdout",
     "output_type": "stream",
     "text": [
      "21:15:36\n",
      "76536\n"
     ]
    }
   ],
   "source": [
    "t = tweets[10]['_crawldate'][-8:]\n",
    "print(t)\n",
    "print(int(t[:2])*3600 + int(t[3:5])*60 + int(t[6:]))"
   ]
  },
  {
   "cell_type": "markdown",
   "id": "a3c8d765",
   "metadata": {},
   "source": [
    "#### Construct a dataframe of the data"
   ]
  },
  {
   "cell_type": "code",
   "execution_count": 9,
   "id": "21836a42",
   "metadata": {
    "scrolled": true
   },
   "outputs": [
    {
     "data": {
      "text/html": [
       "<div>\n",
       "<style scoped>\n",
       "    .dataframe tbody tr th:only-of-type {\n",
       "        vertical-align: middle;\n",
       "    }\n",
       "\n",
       "    .dataframe tbody tr th {\n",
       "        vertical-align: top;\n",
       "    }\n",
       "\n",
       "    .dataframe thead th {\n",
       "        text-align: right;\n",
       "    }\n",
       "</style>\n",
       "<table border=\"1\" class=\"dataframe\">\n",
       "  <thead>\n",
       "    <tr style=\"text-align: right;\">\n",
       "      <th></th>\n",
       "      <th>tweet_id</th>\n",
       "      <th>text</th>\n",
       "      <th>score</th>\n",
       "      <th>time</th>\n",
       "    </tr>\n",
       "  </thead>\n",
       "  <tbody>\n",
       "    <tr>\n",
       "      <th>0</th>\n",
       "      <td>0x376b20</td>\n",
       "      <td>People who post \"add me on #Snapchat\" must be ...</td>\n",
       "      <td>391</td>\n",
       "      <td>42167</td>\n",
       "    </tr>\n",
       "    <tr>\n",
       "      <th>1</th>\n",
       "      <td>0x2d5350</td>\n",
       "      <td>@brianklaas As we see, Trump is dangerous to #...</td>\n",
       "      <td>433</td>\n",
       "      <td>17529</td>\n",
       "    </tr>\n",
       "    <tr>\n",
       "      <th>2</th>\n",
       "      <td>0x28b412</td>\n",
       "      <td>Confident of your obedience, I write to you, k...</td>\n",
       "      <td>232</td>\n",
       "      <td>16760</td>\n",
       "    </tr>\n",
       "    <tr>\n",
       "      <th>3</th>\n",
       "      <td>0x1cd5b0</td>\n",
       "      <td>Now ISSA is stalking Tasha 😂😂😂 &lt;LH&gt;</td>\n",
       "      <td>376</td>\n",
       "      <td>85985</td>\n",
       "    </tr>\n",
       "    <tr>\n",
       "      <th>4</th>\n",
       "      <td>0x2de201</td>\n",
       "      <td>\"Trust is not the same as faith. A friend is s...</td>\n",
       "      <td>989</td>\n",
       "      <td>62339</td>\n",
       "    </tr>\n",
       "    <tr>\n",
       "      <th>...</th>\n",
       "      <td>...</td>\n",
       "      <td>...</td>\n",
       "      <td>...</td>\n",
       "      <td>...</td>\n",
       "    </tr>\n",
       "    <tr>\n",
       "      <th>1867530</th>\n",
       "      <td>0x316b80</td>\n",
       "      <td>When you buy the last 2 tickets remaining for ...</td>\n",
       "      <td>827</td>\n",
       "      <td>46312</td>\n",
       "    </tr>\n",
       "    <tr>\n",
       "      <th>1867531</th>\n",
       "      <td>0x29d0cb</td>\n",
       "      <td>I swear all this hard work gone pay off one da...</td>\n",
       "      <td>368</td>\n",
       "      <td>64444</td>\n",
       "    </tr>\n",
       "    <tr>\n",
       "      <th>1867532</th>\n",
       "      <td>0x2a6a4f</td>\n",
       "      <td>@Parcel2Go no card left when I wasn't in so I ...</td>\n",
       "      <td>498</td>\n",
       "      <td>39872</td>\n",
       "    </tr>\n",
       "    <tr>\n",
       "      <th>1867533</th>\n",
       "      <td>0x24faed</td>\n",
       "      <td>Ah, corporate life, where you can date &lt;LH&gt; us...</td>\n",
       "      <td>840</td>\n",
       "      <td>51906</td>\n",
       "    </tr>\n",
       "    <tr>\n",
       "      <th>1867534</th>\n",
       "      <td>0x34be8c</td>\n",
       "      <td>Blessed to be living #Sundayvibes &lt;LH&gt;</td>\n",
       "      <td>360</td>\n",
       "      <td>6007</td>\n",
       "    </tr>\n",
       "  </tbody>\n",
       "</table>\n",
       "<p>1867535 rows × 4 columns</p>\n",
       "</div>"
      ],
      "text/plain": [
       "         tweet_id                                               text  score  \\\n",
       "0        0x376b20  People who post \"add me on #Snapchat\" must be ...    391   \n",
       "1        0x2d5350  @brianklaas As we see, Trump is dangerous to #...    433   \n",
       "2        0x28b412  Confident of your obedience, I write to you, k...    232   \n",
       "3        0x1cd5b0                Now ISSA is stalking Tasha 😂😂😂 <LH>    376   \n",
       "4        0x2de201  \"Trust is not the same as faith. A friend is s...    989   \n",
       "...           ...                                                ...    ...   \n",
       "1867530  0x316b80  When you buy the last 2 tickets remaining for ...    827   \n",
       "1867531  0x29d0cb  I swear all this hard work gone pay off one da...    368   \n",
       "1867532  0x2a6a4f  @Parcel2Go no card left when I wasn't in so I ...    498   \n",
       "1867533  0x24faed  Ah, corporate life, where you can date <LH> us...    840   \n",
       "1867534  0x34be8c             Blessed to be living #Sundayvibes <LH>    360   \n",
       "\n",
       "          time  \n",
       "0        42167  \n",
       "1        17529  \n",
       "2        16760  \n",
       "3        85985  \n",
       "4        62339  \n",
       "...        ...  \n",
       "1867530  46312  \n",
       "1867531  64444  \n",
       "1867532  39872  \n",
       "1867533  51906  \n",
       "1867534   6007  \n",
       "\n",
       "[1867535 rows x 4 columns]"
      ]
     },
     "execution_count": 9,
     "metadata": {},
     "output_type": "execute_result"
    }
   ],
   "source": [
    "data = {}\n",
    "\n",
    "# tweet_id\n",
    "data['tweet_id'] = [tweet['_source']['tweet']['tweet_id'] for tweet in tweets]\n",
    "# text\n",
    "data['text'] = [tweet['_source']['tweet']['text'] for tweet in tweets]\n",
    "# score\n",
    "data['score'] = [tweet['_score'] for tweet in tweets]\n",
    "# time\n",
    "time = [tweets[i]['_crawldate'][-8:] for i in range(len(tweets))]\n",
    "data['time'] = [int(t[:2])*3600 + int(t[3:5])*60 + int(t[6:]) for t in time]\n",
    "\n",
    "df = pd.DataFrame(data)\n",
    "df"
   ]
  },
  {
   "cell_type": "markdown",
   "id": "fed0ce9e",
   "metadata": {},
   "source": [
    "#### See some data"
   ]
  },
  {
   "cell_type": "code",
   "execution_count": 10,
   "id": "03e89c65",
   "metadata": {},
   "outputs": [
    {
     "data": {
      "text/plain": [
       "'Now ISSA is stalking Tasha 😂😂😂 <LH>'"
      ]
     },
     "execution_count": 10,
     "metadata": {},
     "output_type": "execute_result"
    }
   ],
   "source": [
    "df['text'][3]"
   ]
  },
  {
   "cell_type": "code",
   "execution_count": 11,
   "id": "77fc44cb",
   "metadata": {},
   "outputs": [
    {
     "data": {
      "text/plain": [
       "True"
      ]
     },
     "execution_count": 11,
     "metadata": {},
     "output_type": "execute_result"
    }
   ],
   "source": [
    "'😂' in df['text'][3]"
   ]
  },
  {
   "cell_type": "markdown",
   "id": "10fed43a",
   "metadata": {},
   "source": [
    "### Data prepocessing\n",
    "\n",
    "#### 1. Construct training data and testing data"
   ]
  },
  {
   "cell_type": "markdown",
   "id": "72c3fc32",
   "metadata": {},
   "source": [
    "#### Dictionary to see a tweet is training data or testing data"
   ]
  },
  {
   "cell_type": "code",
   "execution_count": 12,
   "id": "289d0fb1",
   "metadata": {},
   "outputs": [],
   "source": [
    "train_or_test = {}\n",
    "\n",
    "for i in range(len(train_test)):\n",
    "    train_or_test[train_test['tweet_id'][i]] = train_test['identification'][i]"
   ]
  },
  {
   "cell_type": "markdown",
   "id": "de7de255",
   "metadata": {},
   "source": [
    "#### Dictionary to see what is the emotion of the tweet"
   ]
  },
  {
   "cell_type": "code",
   "execution_count": 13,
   "id": "335dc4b3",
   "metadata": {},
   "outputs": [],
   "source": [
    "emotion = {}\n",
    "\n",
    "for i in range(len(label)):\n",
    "    emotion[label['tweet_id'][i]] = label['emotion'][i]"
   ]
  },
  {
   "cell_type": "code",
   "execution_count": 14,
   "id": "02e8592e",
   "metadata": {},
   "outputs": [],
   "source": [
    "# construct training data and testing data\n",
    "train_id = []\n",
    "train_text = []\n",
    "train_label = []\n",
    "\n",
    "test_id = []\n",
    "test_text = []\n",
    "\n",
    "for i in range(len(df)):\n",
    "    ID = df['tweet_id'][i]\n",
    "    if train_or_test[ID]=='train':\n",
    "        train_id.append(ID)\n",
    "        train_text.append(df['text'][i])\n",
    "        train_label.append(emotion[ID])\n",
    "    else:\n",
    "        test_id.append(ID)\n",
    "        test_text.append(df['text'][i])\n",
    "\n",
    "df_train = pd.DataFrame({'tweet_id':train_id, 'text':train_text, 'emotion':train_label})\n",
    "df_test = pd.DataFrame({'tweet_id':test_id, 'text':test_text})"
   ]
  },
  {
   "cell_type": "markdown",
   "id": "c1f4b7a3",
   "metadata": {},
   "source": [
    "#### Training data"
   ]
  },
  {
   "cell_type": "code",
   "execution_count": 15,
   "id": "319b34c5",
   "metadata": {
    "scrolled": false
   },
   "outputs": [
    {
     "data": {
      "text/html": [
       "<div>\n",
       "<style scoped>\n",
       "    .dataframe tbody tr th:only-of-type {\n",
       "        vertical-align: middle;\n",
       "    }\n",
       "\n",
       "    .dataframe tbody tr th {\n",
       "        vertical-align: top;\n",
       "    }\n",
       "\n",
       "    .dataframe thead th {\n",
       "        text-align: right;\n",
       "    }\n",
       "</style>\n",
       "<table border=\"1\" class=\"dataframe\">\n",
       "  <thead>\n",
       "    <tr style=\"text-align: right;\">\n",
       "      <th></th>\n",
       "      <th>tweet_id</th>\n",
       "      <th>text</th>\n",
       "      <th>emotion</th>\n",
       "    </tr>\n",
       "  </thead>\n",
       "  <tbody>\n",
       "    <tr>\n",
       "      <th>0</th>\n",
       "      <td>0x376b20</td>\n",
       "      <td>People who post \"add me on #Snapchat\" must be ...</td>\n",
       "      <td>anticipation</td>\n",
       "    </tr>\n",
       "    <tr>\n",
       "      <th>1</th>\n",
       "      <td>0x2d5350</td>\n",
       "      <td>@brianklaas As we see, Trump is dangerous to #...</td>\n",
       "      <td>sadness</td>\n",
       "    </tr>\n",
       "    <tr>\n",
       "      <th>2</th>\n",
       "      <td>0x1cd5b0</td>\n",
       "      <td>Now ISSA is stalking Tasha 😂😂😂 &lt;LH&gt;</td>\n",
       "      <td>fear</td>\n",
       "    </tr>\n",
       "    <tr>\n",
       "      <th>3</th>\n",
       "      <td>0x1d755c</td>\n",
       "      <td>@RISKshow @TheKevinAllison Thx for the BEST TI...</td>\n",
       "      <td>joy</td>\n",
       "    </tr>\n",
       "    <tr>\n",
       "      <th>4</th>\n",
       "      <td>0x2c91a8</td>\n",
       "      <td>Still waiting on those supplies Liscus. &lt;LH&gt;</td>\n",
       "      <td>anticipation</td>\n",
       "    </tr>\n",
       "    <tr>\n",
       "      <th>...</th>\n",
       "      <td>...</td>\n",
       "      <td>...</td>\n",
       "      <td>...</td>\n",
       "    </tr>\n",
       "    <tr>\n",
       "      <th>1455558</th>\n",
       "      <td>0x321566</td>\n",
       "      <td>I'm SO HAPPY!!! #NoWonder the name of this sho...</td>\n",
       "      <td>joy</td>\n",
       "    </tr>\n",
       "    <tr>\n",
       "      <th>1455559</th>\n",
       "      <td>0x38959e</td>\n",
       "      <td>In every circumtance I'd like to be thankful t...</td>\n",
       "      <td>joy</td>\n",
       "    </tr>\n",
       "    <tr>\n",
       "      <th>1455560</th>\n",
       "      <td>0x2cbca6</td>\n",
       "      <td>there's currently two girls walking around the...</td>\n",
       "      <td>joy</td>\n",
       "    </tr>\n",
       "    <tr>\n",
       "      <th>1455561</th>\n",
       "      <td>0x24faed</td>\n",
       "      <td>Ah, corporate life, where you can date &lt;LH&gt; us...</td>\n",
       "      <td>joy</td>\n",
       "    </tr>\n",
       "    <tr>\n",
       "      <th>1455562</th>\n",
       "      <td>0x34be8c</td>\n",
       "      <td>Blessed to be living #Sundayvibes &lt;LH&gt;</td>\n",
       "      <td>joy</td>\n",
       "    </tr>\n",
       "  </tbody>\n",
       "</table>\n",
       "<p>1455563 rows × 3 columns</p>\n",
       "</div>"
      ],
      "text/plain": [
       "         tweet_id                                               text  \\\n",
       "0        0x376b20  People who post \"add me on #Snapchat\" must be ...   \n",
       "1        0x2d5350  @brianklaas As we see, Trump is dangerous to #...   \n",
       "2        0x1cd5b0                Now ISSA is stalking Tasha 😂😂😂 <LH>   \n",
       "3        0x1d755c  @RISKshow @TheKevinAllison Thx for the BEST TI...   \n",
       "4        0x2c91a8       Still waiting on those supplies Liscus. <LH>   \n",
       "...           ...                                                ...   \n",
       "1455558  0x321566  I'm SO HAPPY!!! #NoWonder the name of this sho...   \n",
       "1455559  0x38959e  In every circumtance I'd like to be thankful t...   \n",
       "1455560  0x2cbca6  there's currently two girls walking around the...   \n",
       "1455561  0x24faed  Ah, corporate life, where you can date <LH> us...   \n",
       "1455562  0x34be8c             Blessed to be living #Sundayvibes <LH>   \n",
       "\n",
       "              emotion  \n",
       "0        anticipation  \n",
       "1             sadness  \n",
       "2                fear  \n",
       "3                 joy  \n",
       "4        anticipation  \n",
       "...               ...  \n",
       "1455558           joy  \n",
       "1455559           joy  \n",
       "1455560           joy  \n",
       "1455561           joy  \n",
       "1455562           joy  \n",
       "\n",
       "[1455563 rows x 3 columns]"
      ]
     },
     "execution_count": 15,
     "metadata": {},
     "output_type": "execute_result"
    }
   ],
   "source": [
    "df_train"
   ]
  },
  {
   "cell_type": "markdown",
   "id": "8aa1e685",
   "metadata": {},
   "source": [
    "#### Testing data"
   ]
  },
  {
   "cell_type": "code",
   "execution_count": 16,
   "id": "813a0d4d",
   "metadata": {},
   "outputs": [
    {
     "data": {
      "text/html": [
       "<div>\n",
       "<style scoped>\n",
       "    .dataframe tbody tr th:only-of-type {\n",
       "        vertical-align: middle;\n",
       "    }\n",
       "\n",
       "    .dataframe tbody tr th {\n",
       "        vertical-align: top;\n",
       "    }\n",
       "\n",
       "    .dataframe thead th {\n",
       "        text-align: right;\n",
       "    }\n",
       "</style>\n",
       "<table border=\"1\" class=\"dataframe\">\n",
       "  <thead>\n",
       "    <tr style=\"text-align: right;\">\n",
       "      <th></th>\n",
       "      <th>tweet_id</th>\n",
       "      <th>text</th>\n",
       "    </tr>\n",
       "  </thead>\n",
       "  <tbody>\n",
       "    <tr>\n",
       "      <th>0</th>\n",
       "      <td>0x28b412</td>\n",
       "      <td>Confident of your obedience, I write to you, k...</td>\n",
       "    </tr>\n",
       "    <tr>\n",
       "      <th>1</th>\n",
       "      <td>0x2de201</td>\n",
       "      <td>\"Trust is not the same as faith. A friend is s...</td>\n",
       "    </tr>\n",
       "    <tr>\n",
       "      <th>2</th>\n",
       "      <td>0x218443</td>\n",
       "      <td>When do you have enough ? When are you satisfi...</td>\n",
       "    </tr>\n",
       "    <tr>\n",
       "      <th>3</th>\n",
       "      <td>0x2939d5</td>\n",
       "      <td>God woke you up, now chase the day #GodsPlan #...</td>\n",
       "    </tr>\n",
       "    <tr>\n",
       "      <th>4</th>\n",
       "      <td>0x26289a</td>\n",
       "      <td>In these tough times, who do YOU turn to as yo...</td>\n",
       "    </tr>\n",
       "    <tr>\n",
       "      <th>...</th>\n",
       "      <td>...</td>\n",
       "      <td>...</td>\n",
       "    </tr>\n",
       "    <tr>\n",
       "      <th>411967</th>\n",
       "      <td>0x2913b4</td>\n",
       "      <td>\"For this is the message that ye heard from th...</td>\n",
       "    </tr>\n",
       "    <tr>\n",
       "      <th>411968</th>\n",
       "      <td>0x2a980e</td>\n",
       "      <td>\"There is a lad here, which hath five barley l...</td>\n",
       "    </tr>\n",
       "    <tr>\n",
       "      <th>411969</th>\n",
       "      <td>0x316b80</td>\n",
       "      <td>When you buy the last 2 tickets remaining for ...</td>\n",
       "    </tr>\n",
       "    <tr>\n",
       "      <th>411970</th>\n",
       "      <td>0x29d0cb</td>\n",
       "      <td>I swear all this hard work gone pay off one da...</td>\n",
       "    </tr>\n",
       "    <tr>\n",
       "      <th>411971</th>\n",
       "      <td>0x2a6a4f</td>\n",
       "      <td>@Parcel2Go no card left when I wasn't in so I ...</td>\n",
       "    </tr>\n",
       "  </tbody>\n",
       "</table>\n",
       "<p>411972 rows × 2 columns</p>\n",
       "</div>"
      ],
      "text/plain": [
       "        tweet_id                                               text\n",
       "0       0x28b412  Confident of your obedience, I write to you, k...\n",
       "1       0x2de201  \"Trust is not the same as faith. A friend is s...\n",
       "2       0x218443  When do you have enough ? When are you satisfi...\n",
       "3       0x2939d5  God woke you up, now chase the day #GodsPlan #...\n",
       "4       0x26289a  In these tough times, who do YOU turn to as yo...\n",
       "...          ...                                                ...\n",
       "411967  0x2913b4  \"For this is the message that ye heard from th...\n",
       "411968  0x2a980e  \"There is a lad here, which hath five barley l...\n",
       "411969  0x316b80  When you buy the last 2 tickets remaining for ...\n",
       "411970  0x29d0cb  I swear all this hard work gone pay off one da...\n",
       "411971  0x2a6a4f  @Parcel2Go no card left when I wasn't in so I ...\n",
       "\n",
       "[411972 rows x 2 columns]"
      ]
     },
     "execution_count": 16,
     "metadata": {},
     "output_type": "execute_result"
    }
   ],
   "source": [
    "df_test"
   ]
  },
  {
   "cell_type": "markdown",
   "id": "85afb377",
   "metadata": {},
   "source": [
    "#### 2. Preprocessing function to remove stop words, remove HTML tags, remove numbers, remove accented characters, remove special characters, remove extra white spaces and tabs, remove punctuation marks but emoticons, convert all characters to lowercase, and apply snowball stemmer. (details are in the comments of the below cell)"
   ]
  },
  {
   "cell_type": "code",
   "execution_count": 21,
   "id": "e648270c",
   "metadata": {},
   "outputs": [
    {
     "name": "stderr",
     "output_type": "stream",
     "text": [
      "[nltk_data] Downloading package stopwords to /home/allen/nltk_data...\n",
      "[nltk_data]   Package stopwords is already up-to-date!\n"
     ]
    }
   ],
   "source": [
    "import nltk\n",
    "from nltk.corpus import stopwords\n",
    "from nltk.stem.snowball import SnowballStemmer\n",
    "import re\n",
    "from bs4 import BeautifulSoup\n",
    "import unicodedata\n",
    "import string\n",
    "\n",
    "nltk.download('stopwords')\n",
    "stop_words = set(stopwords.words(\"english\"))\n",
    "stemmer = SnowballStemmer(\"english\")\n",
    "\n",
    "def preprocess(text, stem=True):\n",
    "    # remove HTML tags\n",
    "    text = BeautifulSoup(text, 'html.parser').get_text()\n",
    "    \n",
    "    # regex for matching emoticons, keep emoticons, ex: :), :-P, :-D\n",
    "    r = '(?::|;|=|X)(?:-)?(?:\\)|\\(|D|P)'\n",
    "    emoticons = re.findall(r, text)\n",
    "    text = re.sub(r, ' ', text)\n",
    "    \n",
    "    # regex for matching emojis, keep emojis\n",
    "    r = u'['u'\\U0001F300-\\U0001F64F'u'\\U0001F680-\\U0001F6FF'u'\\u2600-\\u26FF\\u2700-\\u27BF]+'\n",
    "    emojis = re.findall(r, text)\n",
    "    text = re.sub(r, ' ', text)\n",
    "    \n",
    "    # remove accented characters\n",
    "    text = unicodedata.normalize('NFKD', text).encode('ascii', 'ignore').decode('utf-8', 'ignore')\n",
    "\n",
    "    # convert to lowercase\n",
    "    text = re.sub('[\\W]+', ' ', text.lower())\n",
    "    \n",
    "    # remove numbers\n",
    "    text = re.sub(r'[^a-zA-z.,!?/:;\\\"\\'\\s]', ' ', text)\n",
    "    \n",
    "    # remove punctuation\n",
    "    text = ''.join([c for c in text if c not in string.punctuation])\n",
    "    \n",
    "    # remove special characters\n",
    "    text = re.sub(r'[^a-zA-z0-9.,!?/:;\\\"\\'\\s]', '', text)\n",
    "    \n",
    "    # remove extra white spaces and tabs\n",
    "    re.sub(r'^\\s*|\\s\\s*', ' ', text).strip()\n",
    "    \n",
    "    tokens = []\n",
    "    for token in re.split('\\s+', text.strip()):\n",
    "        if token not in stop_words:\n",
    "            if stem:\n",
    "                tokens.append(stemmer.stem(token))\n",
    "            else:\n",
    "                tokens.append(token)\n",
    "                \n",
    "    # append all emoticons and emojis behind the text (with space in between)\n",
    "    # replace('-','') removes nose of emoticons\n",
    "    \n",
    "    new_text = \" \".join(tokens)\n",
    "    if len(emoticons) != 0:\n",
    "        new_text = new_text + ' ' + ' '.join(emoticons).replace('-','')\n",
    "    if len(emojis) != 0:\n",
    "        new_text = new_text + ' ' + ' '.join(emojis)\n",
    "    return new_text\n"
   ]
  },
  {
   "cell_type": "code",
   "execution_count": 22,
   "id": "96af582a",
   "metadata": {},
   "outputs": [
    {
     "data": {
      "text/plain": [
       "'exampl text sleepi face :D 😪 😪'"
      ]
     },
     "execution_count": 22,
     "metadata": {},
     "output_type": "execute_result"
    }
   ],
   "source": [
    "preprocess('%$Some #example\\U0001f62atext with333 :-Da sleepy face: \\U0001f62a')"
   ]
  },
  {
   "cell_type": "markdown",
   "id": "113e5b1f",
   "metadata": {},
   "source": [
    "#### Apply preprocessing function on training data"
   ]
  },
  {
   "cell_type": "code",
   "execution_count": 23,
   "id": "9d8bf8fa",
   "metadata": {
    "scrolled": false
   },
   "outputs": [
    {
     "data": {
      "text/html": [
       "<div>\n",
       "<style scoped>\n",
       "    .dataframe tbody tr th:only-of-type {\n",
       "        vertical-align: middle;\n",
       "    }\n",
       "\n",
       "    .dataframe tbody tr th {\n",
       "        vertical-align: top;\n",
       "    }\n",
       "\n",
       "    .dataframe thead th {\n",
       "        text-align: right;\n",
       "    }\n",
       "</style>\n",
       "<table border=\"1\" class=\"dataframe\">\n",
       "  <thead>\n",
       "    <tr style=\"text-align: right;\">\n",
       "      <th></th>\n",
       "      <th>tweet_id</th>\n",
       "      <th>text</th>\n",
       "      <th>emotion</th>\n",
       "    </tr>\n",
       "  </thead>\n",
       "  <tbody>\n",
       "    <tr>\n",
       "      <th>0</th>\n",
       "      <td>0x376b20</td>\n",
       "      <td>peopl post add snapchat must dehydr cuz man</td>\n",
       "      <td>anticipation</td>\n",
       "    </tr>\n",
       "    <tr>\n",
       "      <th>1</th>\n",
       "      <td>0x2d5350</td>\n",
       "      <td>brianklaa see trump danger freepress around wo...</td>\n",
       "      <td>sadness</td>\n",
       "    </tr>\n",
       "    <tr>\n",
       "      <th>2</th>\n",
       "      <td>0x1cd5b0</td>\n",
       "      <td>issa stalk tasha 😂😂😂</td>\n",
       "      <td>fear</td>\n",
       "    </tr>\n",
       "    <tr>\n",
       "      <th>3</th>\n",
       "      <td>0x1d755c</td>\n",
       "      <td>riskshow thekevinallison thx best time tonight...</td>\n",
       "      <td>joy</td>\n",
       "    </tr>\n",
       "    <tr>\n",
       "      <th>4</th>\n",
       "      <td>0x2c91a8</td>\n",
       "      <td>still wait suppli liscus</td>\n",
       "      <td>anticipation</td>\n",
       "    </tr>\n",
       "    <tr>\n",
       "      <th>...</th>\n",
       "      <td>...</td>\n",
       "      <td>...</td>\n",
       "      <td>...</td>\n",
       "    </tr>\n",
       "    <tr>\n",
       "      <th>1455558</th>\n",
       "      <td>0x321566</td>\n",
       "      <td>happi nowond name show happi happysyfi syfi ch...</td>\n",
       "      <td>joy</td>\n",
       "    </tr>\n",
       "    <tr>\n",
       "      <th>1455559</th>\n",
       "      <td>0x38959e</td>\n",
       "      <td>everi circumt like thank almighti jesus christ</td>\n",
       "      <td>joy</td>\n",
       "    </tr>\n",
       "    <tr>\n",
       "      <th>1455560</th>\n",
       "      <td>0x2cbca6</td>\n",
       "      <td>current two girl walk around librari hand red ...</td>\n",
       "      <td>joy</td>\n",
       "    </tr>\n",
       "    <tr>\n",
       "      <th>1455561</th>\n",
       "      <td>0x24faed</td>\n",
       "      <td>ah corpor life date use relat anachron last jo...</td>\n",
       "      <td>joy</td>\n",
       "    </tr>\n",
       "    <tr>\n",
       "      <th>1455562</th>\n",
       "      <td>0x34be8c</td>\n",
       "      <td>bless live sundayvib</td>\n",
       "      <td>joy</td>\n",
       "    </tr>\n",
       "  </tbody>\n",
       "</table>\n",
       "<p>1455563 rows × 3 columns</p>\n",
       "</div>"
      ],
      "text/plain": [
       "         tweet_id                                               text  \\\n",
       "0        0x376b20        peopl post add snapchat must dehydr cuz man   \n",
       "1        0x2d5350  brianklaa see trump danger freepress around wo...   \n",
       "2        0x1cd5b0                               issa stalk tasha 😂😂😂   \n",
       "3        0x1d755c  riskshow thekevinallison thx best time tonight...   \n",
       "4        0x2c91a8                           still wait suppli liscus   \n",
       "...           ...                                                ...   \n",
       "1455558  0x321566  happi nowond name show happi happysyfi syfi ch...   \n",
       "1455559  0x38959e     everi circumt like thank almighti jesus christ   \n",
       "1455560  0x2cbca6  current two girl walk around librari hand red ...   \n",
       "1455561  0x24faed  ah corpor life date use relat anachron last jo...   \n",
       "1455562  0x34be8c                               bless live sundayvib   \n",
       "\n",
       "              emotion  \n",
       "0        anticipation  \n",
       "1             sadness  \n",
       "2                fear  \n",
       "3                 joy  \n",
       "4        anticipation  \n",
       "...               ...  \n",
       "1455558           joy  \n",
       "1455559           joy  \n",
       "1455560           joy  \n",
       "1455561           joy  \n",
       "1455562           joy  \n",
       "\n",
       "[1455563 rows x 3 columns]"
      ]
     },
     "execution_count": 23,
     "metadata": {},
     "output_type": "execute_result"
    }
   ],
   "source": [
    "df_train.text = df_train.text.apply(lambda x: preprocess(x))\n",
    "df_train"
   ]
  },
  {
   "cell_type": "markdown",
   "id": "b0c274c8",
   "metadata": {},
   "source": [
    "#### Apply preprocessing function on testing data"
   ]
  },
  {
   "cell_type": "code",
   "execution_count": 24,
   "id": "52abc656",
   "metadata": {},
   "outputs": [
    {
     "data": {
      "text/html": [
       "<div>\n",
       "<style scoped>\n",
       "    .dataframe tbody tr th:only-of-type {\n",
       "        vertical-align: middle;\n",
       "    }\n",
       "\n",
       "    .dataframe tbody tr th {\n",
       "        vertical-align: top;\n",
       "    }\n",
       "\n",
       "    .dataframe thead th {\n",
       "        text-align: right;\n",
       "    }\n",
       "</style>\n",
       "<table border=\"1\" class=\"dataframe\">\n",
       "  <thead>\n",
       "    <tr style=\"text-align: right;\">\n",
       "      <th></th>\n",
       "      <th>tweet_id</th>\n",
       "      <th>text</th>\n",
       "    </tr>\n",
       "  </thead>\n",
       "  <tbody>\n",
       "    <tr>\n",
       "      <th>0</th>\n",
       "      <td>0x28b412</td>\n",
       "      <td>confid obedi write know even ask philemon bibl...</td>\n",
       "    </tr>\n",
       "    <tr>\n",
       "      <th>1</th>\n",
       "      <td>0x2de201</td>\n",
       "      <td>trust faith friend someon trust put faith anyo...</td>\n",
       "    </tr>\n",
       "    <tr>\n",
       "      <th>2</th>\n",
       "      <td>0x218443</td>\n",
       "      <td>enough satisfi goal realli money materi money ...</td>\n",
       "    </tr>\n",
       "    <tr>\n",
       "      <th>3</th>\n",
       "      <td>0x2939d5</td>\n",
       "      <td>god woke chase day godsplan godswork</td>\n",
       "    </tr>\n",
       "    <tr>\n",
       "      <th>4</th>\n",
       "      <td>0x26289a</td>\n",
       "      <td>tough time turn symbol hope</td>\n",
       "    </tr>\n",
       "    <tr>\n",
       "      <th>...</th>\n",
       "      <td>...</td>\n",
       "      <td>...</td>\n",
       "    </tr>\n",
       "    <tr>\n",
       "      <th>411967</th>\n",
       "      <td>0x2913b4</td>\n",
       "      <td>messag ye heard begin love one anoth john kjv</td>\n",
       "    </tr>\n",
       "    <tr>\n",
       "      <th>411968</th>\n",
       "      <td>0x2a980e</td>\n",
       "      <td>lad hath five barley loav two small fish among...</td>\n",
       "    </tr>\n",
       "    <tr>\n",
       "      <th>411969</th>\n",
       "      <td>0x316b80</td>\n",
       "      <td>buy last ticket remain show sell mixedfeel but...</td>\n",
       "    </tr>\n",
       "    <tr>\n",
       "      <th>411970</th>\n",
       "      <td>0x29d0cb</td>\n",
       "      <td>swear hard work gone pay one day 😈💰💸</td>\n",
       "    </tr>\n",
       "    <tr>\n",
       "      <th>411971</th>\n",
       "      <td>0x2a6a4f</td>\n",
       "      <td>parcel go card left idea get parcel</td>\n",
       "    </tr>\n",
       "  </tbody>\n",
       "</table>\n",
       "<p>411972 rows × 2 columns</p>\n",
       "</div>"
      ],
      "text/plain": [
       "        tweet_id                                               text\n",
       "0       0x28b412  confid obedi write know even ask philemon bibl...\n",
       "1       0x2de201  trust faith friend someon trust put faith anyo...\n",
       "2       0x218443  enough satisfi goal realli money materi money ...\n",
       "3       0x2939d5               god woke chase day godsplan godswork\n",
       "4       0x26289a                        tough time turn symbol hope\n",
       "...          ...                                                ...\n",
       "411967  0x2913b4      messag ye heard begin love one anoth john kjv\n",
       "411968  0x2a980e  lad hath five barley loav two small fish among...\n",
       "411969  0x316b80  buy last ticket remain show sell mixedfeel but...\n",
       "411970  0x29d0cb               swear hard work gone pay one day 😈💰💸\n",
       "411971  0x2a6a4f                parcel go card left idea get parcel\n",
       "\n",
       "[411972 rows x 2 columns]"
      ]
     },
     "execution_count": 24,
     "metadata": {},
     "output_type": "execute_result"
    }
   ],
   "source": [
    "df_test.text = df_test.text.apply(lambda x: preprocess(x))\n",
    "df_test"
   ]
  },
  {
   "cell_type": "markdown",
   "id": "04a3327d",
   "metadata": {},
   "source": [
    "#### 3. Data exploration: Word cloud for the emotion \"joy\""
   ]
  },
  {
   "cell_type": "code",
   "execution_count": 17,
   "id": "d66d84f2",
   "metadata": {},
   "outputs": [
    {
     "data": {
      "image/png": "[encoded data removed]",
      "text/plain": [
       "<Figure size 432x288 with 1 Axes>"
      ]
     },
     "metadata": {
      "needs_background": "light"
     },
     "output_type": "display_data"
    }
   ],
   "source": [
    "from wordcloud import WordCloud\n",
    "\n",
    "joy = \" \".join(df_train['text'][i] for i in range(len(df_train)) if df_train['emotion'][i]=='joy')\n",
    "wordcloud2 = WordCloud().generate(joy)\n",
    "plt.imshow(wordcloud2, interpolation='bilinear')\n",
    "plt.axis(\"off\")\n",
    "plt.show()"
   ]
  },
  {
   "cell_type": "markdown",
   "id": "5dcc336b",
   "metadata": {},
   "source": [
    "### Try different models\n",
    "\n",
    "#### First of all, split training dataset to training data and validation data"
   ]
  },
  {
   "cell_type": "code",
   "execution_count": 25,
   "id": "de37d5ec",
   "metadata": {},
   "outputs": [],
   "source": [
    "from sklearn.model_selection import train_test_split\n",
    "\n",
    "X_train, X_val, y_train, y_val = train_test_split(\n",
    "    df_train['text'], df_train['emotion'], test_size=0.25, random_state=42)"
   ]
  },
  {
   "cell_type": "code",
   "execution_count": 26,
   "id": "cd3d4419",
   "metadata": {
    "scrolled": true
   },
   "outputs": [
    {
     "name": "stdout",
     "output_type": "stream",
     "text": [
      "(1091672,)\n",
      "(363891,)\n",
      "(1091672,)\n",
      "(363891,)\n"
     ]
    }
   ],
   "source": [
    "print(X_train.shape)\n",
    "print(X_val.shape)\n",
    "print(y_train.shape)\n",
    "print(y_val.shape)"
   ]
  },
  {
   "cell_type": "markdown",
   "id": "d6d7eab4",
   "metadata": {},
   "source": [
    "#### 1. Logistic regression  (TF-IDF feature)"
   ]
  },
  {
   "cell_type": "code",
   "execution_count": 28,
   "id": "bb9b00cd",
   "metadata": {},
   "outputs": [
    {
     "name": "stderr",
     "output_type": "stream",
     "text": [
      "[Parallel(n_jobs=1)]: Using backend SequentialBackend with 1 concurrent workers.\n",
      "[Parallel(n_jobs=1)]: Done   1 out of   1 | elapsed: 26.2min finished\n"
     ]
    }
   ],
   "source": [
    "import nltk\n",
    "from sklearn.pipeline import Pipeline\n",
    "from sklearn.feature_extraction.text import TfidfVectorizer\n",
    "from sklearn.linear_model import LogisticRegression\n",
    "\n",
    "# Train\n",
    "clf = Pipeline([('vect', TfidfVectorizer(tokenizer=nltk.word_tokenize)),\n",
    "                 ('clf', LogisticRegression(max_iter=10000,\n",
    "                                            tol=1e-4, \n",
    "                                            C=1.5,\n",
    "                                            multi_class='multinomial', \n",
    "                                            verbose=1,\n",
    "                                           ))])\n",
    "clf.fit(X_train, y_train)\n",
    "\n",
    "# Predict\n",
    "y_train_pred = clf.predict(X_train)\n",
    "y_val_pred = clf.predict(X_val)  "
   ]
  },
  {
   "cell_type": "code",
   "execution_count": 29,
   "id": "43a4aa97",
   "metadata": {
    "scrolled": true
   },
   "outputs": [
    {
     "name": "stdout",
     "output_type": "stream",
     "text": [
      "training accuracy: 0.6592\n",
      "validation accuracy: 0.5543\n",
      "training f1-score: 0.5757\n",
      "validation f1-score: 0.4681\n"
     ]
    }
   ],
   "source": [
    "from sklearn.metrics import accuracy_score\n",
    "from sklearn.metrics import f1_score\n",
    "\n",
    "# Accuracy\n",
    "acc_train = accuracy_score(y_true=y_train, y_pred=y_train_pred)\n",
    "acc_val = accuracy_score(y_true=y_val, y_pred=y_val_pred)\n",
    "\n",
    "print('training accuracy: {}'.format(round(acc_train, 4)))\n",
    "print('validation accuracy: {}'.format(round(acc_val, 4)))\n",
    "\n",
    "# f1-score\n",
    "labels = ['joy', 'anticipation', 'trust', 'sadness', 'disgust', 'fear', 'surprise', 'anger']\n",
    "f1_train = f1_score(y_true=y_train, y_pred=y_train_pred, average='macro', labels=labels)\n",
    "f1_val = f1_score(y_true=y_val, y_pred=y_val_pred, average='macro', labels=labels)\n",
    "\n",
    "print('training f1-score: {}'.format(round(f1_train, 4)))\n",
    "print('validation f1-score: {}'.format(round(f1_val, 4))) "
   ]
  },
  {
   "cell_type": "markdown",
   "id": "163de8fc",
   "metadata": {},
   "source": [
    "#### 2. Naive Bayes (TF-IDF feature)"
   ]
  },
  {
   "cell_type": "code",
   "execution_count": 31,
   "id": "62237b1f",
   "metadata": {
    "scrolled": true
   },
   "outputs": [],
   "source": [
    "from sklearn.pipeline import Pipeline\n",
    "from sklearn.feature_extraction.text import TfidfVectorizer\n",
    "from sklearn.naive_bayes import MultinomialNB\n",
    "\n",
    "# Train\n",
    "clf = Pipeline([('vect', TfidfVectorizer(max_features=1000, tokenizer=nltk.word_tokenize)),\n",
    "                 ('clf', MultinomialNB())])\n",
    "clf.fit(X_train, y_train)\n",
    "\n",
    "# Predict\n",
    "y_train_pred = clf.predict(X_train)\n",
    "y_val_pred = clf.predict(X_val)  "
   ]
  },
  {
   "cell_type": "code",
   "execution_count": 32,
   "id": "3d3ae07d",
   "metadata": {
    "scrolled": true
   },
   "outputs": [
    {
     "name": "stdout",
     "output_type": "stream",
     "text": [
      "training accuracy: 0.4674\n",
      "validation accuracy: 0.4661\n",
      "training f1-score: 0.3023\n",
      "validation f1-score: 0.2997\n"
     ]
    }
   ],
   "source": [
    "from sklearn.metrics import accuracy_score\n",
    "from sklearn.metrics import f1_score\n",
    "\n",
    "# Accuracy\n",
    "acc_train = accuracy_score(y_true=y_train, y_pred=y_train_pred)\n",
    "acc_val = accuracy_score(y_true=y_val, y_pred=y_val_pred)\n",
    "\n",
    "print('training accuracy: {}'.format(round(acc_train, 4)))\n",
    "print('validation accuracy: {}'.format(round(acc_val, 4)))\n",
    "\n",
    "# f1-score\n",
    "f1_train = f1_score(y_true=y_train, y_pred=y_train_pred, average='macro')\n",
    "f1_val = f1_score(y_true=y_val, y_pred=y_val_pred, average='macro')\n",
    "\n",
    "print('training f1-score: {}'.format(round(f1_train, 4)))\n",
    "print('validation f1-score: {}'.format(round(f1_val, 4))) "
   ]
  },
  {
   "cell_type": "markdown",
   "id": "6affa291",
   "metadata": {},
   "source": [
    "#### 3. SGD (TF-IDF feature)"
   ]
  },
  {
   "cell_type": "code",
   "execution_count": 33,
   "id": "55a5c518",
   "metadata": {},
   "outputs": [],
   "source": [
    "import numpy as np\n",
    "from sklearn.linear_model import SGDClassifier\n",
    "\n",
    "# Train\n",
    "clf = Pipeline([('vect', TfidfVectorizer(tokenizer=nltk.word_tokenize)),\n",
    "                 ('clf', SGDClassifier(max_iter=10000, tol=1e-3))])\n",
    "clf.fit(X_train, y_train)\n",
    "\n",
    "# Predict\n",
    "y_train_pred = clf.predict(X_train)\n",
    "y_val_pred = clf.predict(X_val) \n",
    "\n",
    "# Predict\n",
    "y_train_pred = clf.predict(X_train)\n",
    "y_val_pred = clf.predict(X_val)"
   ]
  },
  {
   "cell_type": "code",
   "execution_count": 34,
   "id": "ab4816e9",
   "metadata": {},
   "outputs": [
    {
     "name": "stdout",
     "output_type": "stream",
     "text": [
      "training accuracy: 0.5596\n",
      "validation accuracy: 0.5189\n",
      "training f1-score: 0.4818\n",
      "validation f1-score: 0.4081\n"
     ]
    }
   ],
   "source": [
    "from sklearn.metrics import accuracy_score\n",
    "from sklearn.metrics import f1_score\n",
    "\n",
    "# Accuracy\n",
    "acc_train = accuracy_score(y_true=y_train, y_pred=y_train_pred)\n",
    "acc_val = accuracy_score(y_true=y_val, y_pred=y_val_pred)\n",
    "\n",
    "print('training accuracy: {}'.format(round(acc_train, 4)))\n",
    "print('validation accuracy: {}'.format(round(acc_val, 4)))\n",
    "\n",
    "# f1-score\n",
    "f1_train = f1_score(y_true=y_train, y_pred=y_train_pred, average='macro')\n",
    "f1_val = f1_score(y_true=y_val, y_pred=y_val_pred, average='macro')\n",
    "\n",
    "print('training f1-score: {}'.format(round(f1_train, 4)))\n",
    "print('validation f1-score: {}'.format(round(f1_val, 4))) "
   ]
  },
  {
   "cell_type": "markdown",
   "id": "6861e0ce",
   "metadata": {},
   "source": [
    "#### 4. SVM  (TF-IDF feature)"
   ]
  },
  {
   "cell_type": "code",
   "execution_count": null,
   "id": "6ae21299",
   "metadata": {},
   "outputs": [],
   "source": [
    "from sklearn.svm import SVC\n",
    "\n",
    "# Train\n",
    "clf = Pipeline([('vect', TfidfVectorizer(max_features=1000, tokenizer=nltk.word_tokenize)),\n",
    "                 ('clf', SVC(C=1, gamma='auto'))])\n",
    "clf.fit(X_train, y_train)\n",
    "\n",
    "# Predict\n",
    "y_train_pred = clf.predict(X_train)\n",
    "y_val_pred = clf.predict(X_val) \n",
    "\n",
    "# Predict\n",
    "y_train_pred = clf.predict(X_train)\n",
    "y_val_pred = clf.predict(X_val)"
   ]
  },
  {
   "cell_type": "code",
   "execution_count": null,
   "id": "e4cc97df",
   "metadata": {},
   "outputs": [],
   "source": [
    "from sklearn.metrics import accuracy_score\n",
    "from sklearn.metrics import f1_score\n",
    "\n",
    "# Accuracy\n",
    "acc_train = accuracy_score(y_true=y_train, y_pred=y_train_pred)\n",
    "acc_val = accuracy_score(y_true=y_val, y_pred=y_val_pred)\n",
    "\n",
    "print('training accuracy: {}'.format(round(acc_train, 4)))\n",
    "print('validation accuracy: {}'.format(round(acc_val, 4)))\n",
    "\n",
    "# f1-score\n",
    "f1_train = f1_score(y_true=y_train, y_pred=y_train_pred, average='macro')\n",
    "f1_val = f1_score(y_true=y_val, y_pred=y_val_pred, average='macro')\n",
    "\n",
    "print('training f1-score: {}'.format(round(f1_train, 4)))\n",
    "print('validation f1-score: {}'.format(round(f1_val, 4))) "
   ]
  },
  {
   "cell_type": "markdown",
   "id": "b9f573ec",
   "metadata": {},
   "source": [
    "#### Here I tried four different models on TF-IDF features. \n",
    "\n",
    "- Logistic regression.\n",
    "- Naive Bayes.\n",
    "- SGD.\n",
    "- SVM. \n",
    "\n",
    "#### Since the dimension of dataset is high, SVM takes a long time to train, and I stop it manually after waiting for many hours. The best result I've got is from Logistic regression, the validation f1-score is 0.4681. This score is gotten after a lot of try and error on the hyperparamters, and keep adding more data preprocesing steps. Naive Bayes seems to work really bad for this task, and f1-score of SGD is a little smaller than f1-score of Logistic regression. My final score on the private leaderboard is the result of Logistic regression with TF-IDF features."
   ]
  },
  {
   "cell_type": "markdown",
   "id": "7ecbbaae",
   "metadata": {},
   "source": [
    "### Write result to file"
   ]
  },
  {
   "cell_type": "code",
   "execution_count": 35,
   "id": "417428c8",
   "metadata": {},
   "outputs": [
    {
     "data": {
      "text/plain": [
       "array(['anticipation', 'anticipation', 'joy', ..., 'sadness', 'joy',\n",
       "       'sadness'], dtype='<U12')"
      ]
     },
     "execution_count": 35,
     "metadata": {},
     "output_type": "execute_result"
    }
   ],
   "source": [
    "test_pred = clf.predict(df_test['text'])\n",
    "test_pred"
   ]
  },
  {
   "cell_type": "code",
   "execution_count": 36,
   "id": "ec4c8d98",
   "metadata": {},
   "outputs": [],
   "source": [
    "import csv\n",
    "\n",
    "with open('./output/output.csv', 'w', newline='') as csvfile:\n",
    "    writer = csv.writer(csvfile)\n",
    "\n",
    "    writer.writerow(['id', 'emotion'])\n",
    "    \n",
    "    for i in range(len(df_test)):\n",
    "        writer.writerow([df_test['tweet_id'][i], test_pred[i]])"
   ]
  },
  {
   "cell_type": "markdown",
   "id": "083a2d00",
   "metadata": {},
   "source": [
    "### Word2Vec\n",
    "#### Below I tried to use word2vec to transform words into word embeddings, combine these word vectors to be the features. However, the result is much worser than TF-IDF feature. I think simple averaging is not suitable for semtiment analysis because it doesn't consider the order of words. However, I didn't have more time for trying other methods, so the result below is not used in the final result."
   ]
  },
  {
   "cell_type": "code",
   "execution_count": 37,
   "id": "4e991425",
   "metadata": {},
   "outputs": [
    {
     "data": {
      "text/html": [
       "<div>\n",
       "<style scoped>\n",
       "    .dataframe tbody tr th:only-of-type {\n",
       "        vertical-align: middle;\n",
       "    }\n",
       "\n",
       "    .dataframe tbody tr th {\n",
       "        vertical-align: top;\n",
       "    }\n",
       "\n",
       "    .dataframe thead th {\n",
       "        text-align: right;\n",
       "    }\n",
       "</style>\n",
       "<table border=\"1\" class=\"dataframe\">\n",
       "  <thead>\n",
       "    <tr style=\"text-align: right;\">\n",
       "      <th></th>\n",
       "      <th>tweet_id</th>\n",
       "      <th>text</th>\n",
       "      <th>emotion</th>\n",
       "      <th>text_tokenized</th>\n",
       "    </tr>\n",
       "  </thead>\n",
       "  <tbody>\n",
       "    <tr>\n",
       "      <th>0</th>\n",
       "      <td>0x376b20</td>\n",
       "      <td>peopl post add snapchat must dehydr cuz man</td>\n",
       "      <td>anticipation</td>\n",
       "      <td>[peopl, post, add, snapchat, must, dehydr, cuz...</td>\n",
       "    </tr>\n",
       "    <tr>\n",
       "      <th>1</th>\n",
       "      <td>0x2d5350</td>\n",
       "      <td>brianklaa see trump danger freepress around wo...</td>\n",
       "      <td>sadness</td>\n",
       "      <td>[brianklaa, see, trump, danger, freepress, aro...</td>\n",
       "    </tr>\n",
       "    <tr>\n",
       "      <th>2</th>\n",
       "      <td>0x1cd5b0</td>\n",
       "      <td>issa stalk tasha 😂😂😂</td>\n",
       "      <td>fear</td>\n",
       "      <td>[issa, stalk, tasha, 😂😂😂]</td>\n",
       "    </tr>\n",
       "    <tr>\n",
       "      <th>3</th>\n",
       "      <td>0x1d755c</td>\n",
       "      <td>riskshow thekevinallison thx best time tonight...</td>\n",
       "      <td>joy</td>\n",
       "      <td>[riskshow, thekevinallison, thx, best, time, t...</td>\n",
       "    </tr>\n",
       "    <tr>\n",
       "      <th>4</th>\n",
       "      <td>0x2c91a8</td>\n",
       "      <td>still wait suppli liscus</td>\n",
       "      <td>anticipation</td>\n",
       "      <td>[still, wait, suppli, liscus]</td>\n",
       "    </tr>\n",
       "    <tr>\n",
       "      <th>...</th>\n",
       "      <td>...</td>\n",
       "      <td>...</td>\n",
       "      <td>...</td>\n",
       "      <td>...</td>\n",
       "    </tr>\n",
       "    <tr>\n",
       "      <th>1455558</th>\n",
       "      <td>0x321566</td>\n",
       "      <td>happi nowond name show happi happysyfi syfi ch...</td>\n",
       "      <td>joy</td>\n",
       "      <td>[happi, nowond, name, show, happi, happysyfi, ...</td>\n",
       "    </tr>\n",
       "    <tr>\n",
       "      <th>1455559</th>\n",
       "      <td>0x38959e</td>\n",
       "      <td>everi circumt like thank almighti jesus christ</td>\n",
       "      <td>joy</td>\n",
       "      <td>[everi, circumt, like, thank, almighti, jesus,...</td>\n",
       "    </tr>\n",
       "    <tr>\n",
       "      <th>1455560</th>\n",
       "      <td>0x2cbca6</td>\n",
       "      <td>current two girl walk around librari hand red ...</td>\n",
       "      <td>joy</td>\n",
       "      <td>[current, two, girl, walk, around, librari, ha...</td>\n",
       "    </tr>\n",
       "    <tr>\n",
       "      <th>1455561</th>\n",
       "      <td>0x24faed</td>\n",
       "      <td>ah corpor life date use relat anachron last jo...</td>\n",
       "      <td>joy</td>\n",
       "      <td>[ah, corpor, life, date, use, relat, anachron,...</td>\n",
       "    </tr>\n",
       "    <tr>\n",
       "      <th>1455562</th>\n",
       "      <td>0x34be8c</td>\n",
       "      <td>bless live sundayvib</td>\n",
       "      <td>joy</td>\n",
       "      <td>[bless, live, sundayvib]</td>\n",
       "    </tr>\n",
       "  </tbody>\n",
       "</table>\n",
       "<p>1455563 rows × 4 columns</p>\n",
       "</div>"
      ],
      "text/plain": [
       "         tweet_id                                               text  \\\n",
       "0        0x376b20        peopl post add snapchat must dehydr cuz man   \n",
       "1        0x2d5350  brianklaa see trump danger freepress around wo...   \n",
       "2        0x1cd5b0                               issa stalk tasha 😂😂😂   \n",
       "3        0x1d755c  riskshow thekevinallison thx best time tonight...   \n",
       "4        0x2c91a8                           still wait suppli liscus   \n",
       "...           ...                                                ...   \n",
       "1455558  0x321566  happi nowond name show happi happysyfi syfi ch...   \n",
       "1455559  0x38959e     everi circumt like thank almighti jesus christ   \n",
       "1455560  0x2cbca6  current two girl walk around librari hand red ...   \n",
       "1455561  0x24faed  ah corpor life date use relat anachron last jo...   \n",
       "1455562  0x34be8c                               bless live sundayvib   \n",
       "\n",
       "              emotion                                     text_tokenized  \n",
       "0        anticipation  [peopl, post, add, snapchat, must, dehydr, cuz...  \n",
       "1             sadness  [brianklaa, see, trump, danger, freepress, aro...  \n",
       "2                fear                          [issa, stalk, tasha, 😂😂😂]  \n",
       "3                 joy  [riskshow, thekevinallison, thx, best, time, t...  \n",
       "4        anticipation                      [still, wait, suppli, liscus]  \n",
       "...               ...                                                ...  \n",
       "1455558           joy  [happi, nowond, name, show, happi, happysyfi, ...  \n",
       "1455559           joy  [everi, circumt, like, thank, almighti, jesus,...  \n",
       "1455560           joy  [current, two, girl, walk, around, librari, ha...  \n",
       "1455561           joy  [ah, corpor, life, date, use, relat, anachron,...  \n",
       "1455562           joy                           [bless, live, sundayvib]  \n",
       "\n",
       "[1455563 rows x 4 columns]"
      ]
     },
     "execution_count": 37,
     "metadata": {},
     "output_type": "execute_result"
    }
   ],
   "source": [
    "## check library\n",
    "import gensim\n",
    "\n",
    "## ignore warnings\n",
    "import warnings\n",
    "warnings.filterwarnings('ignore')\n",
    "\n",
    "## the input type\n",
    "df_train['text_tokenized'] = df_train['text'].apply(lambda x: nltk.word_tokenize(x))\n",
    "df_train"
   ]
  },
  {
   "cell_type": "code",
   "execution_count": 38,
   "id": "e5f81078",
   "metadata": {},
   "outputs": [
    {
     "name": "stdout",
     "output_type": "stream",
     "text": [
      "load ok\n"
     ]
    },
    {
     "data": {
      "text/plain": [
       "[('glad', 0.7408890724182129),\n",
       " ('pleased', 0.6632170677185059),\n",
       " ('ecstatic', 0.6626912355422974),\n",
       " ('overjoyed', 0.6599286794662476),\n",
       " ('thrilled', 0.6514049172401428),\n",
       " ('satisfied', 0.6437949538230896),\n",
       " ('proud', 0.636042058467865),\n",
       " ('delighted', 0.627237856388092),\n",
       " ('disappointed', 0.6269949674606323),\n",
       " ('excited', 0.6247665286064148)]"
      ]
     },
     "execution_count": 38,
     "metadata": {},
     "output_type": "execute_result"
    }
   ],
   "source": [
    "from gensim.models import KeyedVectors\n",
    "\n",
    "## Note: this model is very huge, this will take some time ...\n",
    "model_path = \"../GoogleNews/GoogleNews-vectors-negative300.bin.gz\"\n",
    "w2v_google_model = KeyedVectors.load_word2vec_format(model_path, binary=True)\n",
    "print('load ok')\n",
    "\n",
    "w2v_google_model.most_similar('happy', topn=10)"
   ]
  },
  {
   "cell_type": "code",
   "execution_count": 39,
   "id": "f36f5d4d",
   "metadata": {
    "scrolled": true
   },
   "outputs": [
    {
     "data": {
      "text/plain": [
       "(300,)"
      ]
     },
     "execution_count": 39,
     "metadata": {},
     "output_type": "execute_result"
    }
   ],
   "source": [
    "w2v_google_model['happy'].shape"
   ]
  },
  {
   "cell_type": "code",
   "execution_count": 40,
   "id": "03862657",
   "metadata": {},
   "outputs": [
    {
     "data": {
      "text/plain": [
       "(300,)"
      ]
     },
     "execution_count": 40,
     "metadata": {},
     "output_type": "execute_result"
    }
   ],
   "source": [
    "(w2v_google_model['happy']+w2v_google_model['angry']).shape"
   ]
  },
  {
   "cell_type": "markdown",
   "id": "403437fd",
   "metadata": {},
   "source": [
    "#### Function for convert word list into word embeddings. Use simple average to construct the word vectors."
   ]
  },
  {
   "cell_type": "code",
   "execution_count": 41,
   "id": "cfb5dee0",
   "metadata": {},
   "outputs": [],
   "source": [
    "import numpy as np\n",
    "\n",
    "def convert_to_vector(word_lst):\n",
    "    x = np.zeros((300,))\n",
    "    for word in word_lst:\n",
    "        try:\n",
    "            x += w2v_google_model[word]\n",
    "        except: \n",
    "            continue\n",
    "    x /= len(word_lst)\n",
    "    return x"
   ]
  },
  {
   "cell_type": "markdown",
   "id": "c7d59ab7",
   "metadata": {},
   "source": [
    "#### Apply the above function on the tokenized input text."
   ]
  },
  {
   "cell_type": "code",
   "execution_count": 42,
   "id": "82291a47",
   "metadata": {},
   "outputs": [],
   "source": [
    "df_train['vector'] = df_train['text_tokenized'].apply(lambda x: convert_to_vector(x))"
   ]
  },
  {
   "cell_type": "code",
   "execution_count": 43,
   "id": "c76ec451",
   "metadata": {
    "scrolled": true
   },
   "outputs": [
    {
     "data": {
      "text/plain": [
       "(300,)"
      ]
     },
     "execution_count": 43,
     "metadata": {},
     "output_type": "execute_result"
    }
   ],
   "source": [
    "df_train['vector'][0].shape"
   ]
  },
  {
   "cell_type": "markdown",
   "id": "456dc3fd",
   "metadata": {},
   "source": [
    "#### Split the training dataset into training data and validation data."
   ]
  },
  {
   "cell_type": "code",
   "execution_count": 44,
   "id": "ca7dcb0d",
   "metadata": {},
   "outputs": [
    {
     "name": "stdout",
     "output_type": "stream",
     "text": [
      "(1091672, 300)\n",
      "(363891, 300)\n"
     ]
    }
   ],
   "source": [
    "from sklearn.model_selection import train_test_split\n",
    "\n",
    "X_train, X_val, y_train, y_val = train_test_split(\n",
    "    df_train['vector'], df_train['emotion'], test_size=0.25, random_state=42)\n",
    "\n",
    "tmp = []\n",
    "for x in X_train:\n",
    "    tmp.append(x)\n",
    "X_train = np.array(tmp)\n",
    "X_train = np.nan_to_num(X_train)\n",
    "\n",
    "tmp = []\n",
    "for x in X_val:\n",
    "    tmp.append(x)\n",
    "X_val = np.array(tmp)\n",
    "X_val = np.nan_to_num(X_val)\n",
    "\n",
    "y_train = y_train.to_numpy()\n",
    "y_val = y_val.to_numpy()\n",
    "print(X_train.shape)\n",
    "print(X_val.shape)"
   ]
  },
  {
   "cell_type": "markdown",
   "id": "ac08e3e2",
   "metadata": {},
   "source": [
    "#### Observe the range of the transformed data."
   ]
  },
  {
   "cell_type": "code",
   "execution_count": 45,
   "id": "0a9ae8b1",
   "metadata": {},
   "outputs": [
    {
     "name": "stdout",
     "output_type": "stream",
     "text": [
      "-0.98828125\n",
      "-0.91796875\n",
      "0.3515625\n",
      "0.322265625\n"
     ]
    }
   ],
   "source": [
    "print(np.amin(np.amin(X_train, axis=0)))\n",
    "print(np.amin(np.amin(X_val, axis=0)))\n",
    "print(np.amin(np.amax(X_train, axis=0)))\n",
    "print(np.amin(np.amax(X_val, axis=0)))"
   ]
  },
  {
   "cell_type": "markdown",
   "id": "4e64dea1",
   "metadata": {},
   "source": [
    "#### Perform feature transformation to make range of data falls in [0,1]."
   ]
  },
  {
   "cell_type": "code",
   "execution_count": 46,
   "id": "f7e5ccd7",
   "metadata": {
    "scrolled": true
   },
   "outputs": [
    {
     "name": "stdout",
     "output_type": "stream",
     "text": [
      "0.005859375\n",
      "0.041015625\n",
      "0.67578125\n",
      "0.6611328125\n"
     ]
    }
   ],
   "source": [
    "X_train = (X_train+1)/2\n",
    "X_val = (X_val+1)/2\n",
    "\n",
    "print(np.amin(np.amin(X_train, axis=0)))\n",
    "print(np.amin(np.amin(X_val, axis=0)))\n",
    "print(np.amin(np.amax(X_train, axis=0)))\n",
    "print(np.amin(np.amax(X_val, axis=0)))"
   ]
  },
  {
   "cell_type": "markdown",
   "id": "76f1800a",
   "metadata": {},
   "source": [
    "#### Train model on word2vec features"
   ]
  },
  {
   "cell_type": "code",
   "execution_count": 47,
   "id": "0580c5ac",
   "metadata": {},
   "outputs": [],
   "source": [
    "from sklearn.naive_bayes import MultinomialNB\n",
    "\n",
    "# Train model\n",
    "clf = MultinomialNB()\n",
    "clf.fit(X_train, y_train)\n",
    "\n",
    "# Predict\n",
    "y_train_pred = clf.predict(X_train)\n",
    "y_val_pred = clf.predict(X_val)"
   ]
  },
  {
   "cell_type": "code",
   "execution_count": 48,
   "id": "efa207d9",
   "metadata": {},
   "outputs": [
    {
     "name": "stdout",
     "output_type": "stream",
     "text": [
      "training accuracy: 0.3547\n",
      "validation accuracy: 0.354\n",
      "training f1-score: 0.0655\n",
      "validation f1-score: 0.0655\n"
     ]
    }
   ],
   "source": [
    "from sklearn.metrics import accuracy_score\n",
    "from sklearn.metrics import f1_score\n",
    "\n",
    "# Accuracy\n",
    "acc_train = accuracy_score(y_true=y_train, y_pred=y_train_pred)\n",
    "acc_val = accuracy_score(y_true=y_val, y_pred=y_val_pred)\n",
    "\n",
    "print('training accuracy: {}'.format(round(acc_train, 4)))\n",
    "print('validation accuracy: {}'.format(round(acc_val, 4)))\n",
    "\n",
    "# f1-score\n",
    "f1_train = f1_score(y_true=y_train, y_pred=y_train_pred, average='macro')\n",
    "f1_val = f1_score(y_true=y_val, y_pred=y_val_pred, average='macro')\n",
    "\n",
    "print('training f1-score: {}'.format(round(f1_train, 4)))\n",
    "print('validation f1-score: {}'.format(round(f1_train, 4)))"
   ]
  },
  {
   "cell_type": "markdown",
   "id": "860ddef9",
   "metadata": {},
   "source": [
    "#### As I mentioned before, I didn't use this result in my final result."
   ]
  },
  {
   "cell_type": "markdown",
   "id": "12419fb6",
   "metadata": {},
   "source": [
    "### Note: the second part of kaggle competition is in DM2021-Lab2-Homework-kaggle-LSTM.ipynb"
   ]
  },
  {
   "cell_type": "code",
   "execution_count": null,
   "id": "e17b8468",
   "metadata": {},
   "outputs": [],
   "source": []
  }
 ],
 "metadata": {
  "kernelspec": {
   "display_name": "Python 3",
   "language": "python",
   "name": "python3"
  },
  "language_info": {
   "codemirror_mode": {
    "name": "ipython",
    "version": 3
   },
   "file_extension": ".py",
   "mimetype": "text/x-python",
   "name": "python",
   "nbconvert_exporter": "python",
   "pygments_lexer": "ipython3",
   "version": "3.8.8"
  }
 },
 "nbformat": 4,
 "nbformat_minor": 5
}
