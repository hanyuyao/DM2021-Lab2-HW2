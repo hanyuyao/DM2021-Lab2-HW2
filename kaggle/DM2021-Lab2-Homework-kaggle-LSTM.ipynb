{
 "cells": [
  {
   "cell_type": "markdown",
   "id": "1cb620d0",
   "metadata": {},
   "source": [
    "### Student Information\n",
    "Name: 姚瀚宇\n",
    "\n",
    "Student ID: 110062542\n",
    "\n",
    "GitHub ID: 51129597\n",
    "\n",
    "Kaggle name: hanyuyao\n",
    "\n",
    "Kaggle private scoreboard snapshot:\n",
    "\n",
    "[Snapshot](pic0.png)"
   ]
  },
  {
   "cell_type": "markdown",
   "id": "c711e58b",
   "metadata": {},
   "source": [
    "### Note: This the second part of the kaggle competition, the first part is in DM2021-Lab2-Homework-kaggle.ipynb"
   ]
  },
  {
   "cell_type": "markdown",
   "id": "87c30742",
   "metadata": {},
   "source": [
    "### Kaggle Competition - part2 (The data preprocessing is similar to part1, go to cell 17 to see the LSTM part)"
   ]
  },
  {
   "cell_type": "markdown",
   "id": "6bbb6871",
   "metadata": {},
   "source": [
    "### Read data and plot statistical figures\n",
    "\n",
    "#### 1. Read data_identification.csv"
   ]
  },
  {
   "cell_type": "code",
   "execution_count": 1,
   "id": "1bc0f71d",
   "metadata": {
    "scrolled": false
   },
   "outputs": [
    {
     "data": {
      "text/html": [
       "<div>\n",
       "<style scoped>\n",
       "    .dataframe tbody tr th:only-of-type {\n",
       "        vertical-align: middle;\n",
       "    }\n",
       "\n",
       "    .dataframe tbody tr th {\n",
       "        vertical-align: top;\n",
       "    }\n",
       "\n",
       "    .dataframe thead th {\n",
       "        text-align: right;\n",
       "    }\n",
       "</style>\n",
       "<table border=\"1\" class=\"dataframe\">\n",
       "  <thead>\n",
       "    <tr style=\"text-align: right;\">\n",
       "      <th></th>\n",
       "      <th>tweet_id</th>\n",
       "      <th>identification</th>\n",
       "    </tr>\n",
       "  </thead>\n",
       "  <tbody>\n",
       "    <tr>\n",
       "      <th>0</th>\n",
       "      <td>0x28cc61</td>\n",
       "      <td>test</td>\n",
       "    </tr>\n",
       "    <tr>\n",
       "      <th>1</th>\n",
       "      <td>0x29e452</td>\n",
       "      <td>train</td>\n",
       "    </tr>\n",
       "    <tr>\n",
       "      <th>2</th>\n",
       "      <td>0x2b3819</td>\n",
       "      <td>train</td>\n",
       "    </tr>\n",
       "    <tr>\n",
       "      <th>3</th>\n",
       "      <td>0x2db41f</td>\n",
       "      <td>test</td>\n",
       "    </tr>\n",
       "    <tr>\n",
       "      <th>4</th>\n",
       "      <td>0x2a2acc</td>\n",
       "      <td>train</td>\n",
       "    </tr>\n",
       "    <tr>\n",
       "      <th>...</th>\n",
       "      <td>...</td>\n",
       "      <td>...</td>\n",
       "    </tr>\n",
       "    <tr>\n",
       "      <th>1867530</th>\n",
       "      <td>0x227e25</td>\n",
       "      <td>train</td>\n",
       "    </tr>\n",
       "    <tr>\n",
       "      <th>1867531</th>\n",
       "      <td>0x293813</td>\n",
       "      <td>train</td>\n",
       "    </tr>\n",
       "    <tr>\n",
       "      <th>1867532</th>\n",
       "      <td>0x1e1a7e</td>\n",
       "      <td>train</td>\n",
       "    </tr>\n",
       "    <tr>\n",
       "      <th>1867533</th>\n",
       "      <td>0x2156a5</td>\n",
       "      <td>train</td>\n",
       "    </tr>\n",
       "    <tr>\n",
       "      <th>1867534</th>\n",
       "      <td>0x2bb9d2</td>\n",
       "      <td>train</td>\n",
       "    </tr>\n",
       "  </tbody>\n",
       "</table>\n",
       "<p>1867535 rows × 2 columns</p>\n",
       "</div>"
      ],
      "text/plain": [
       "         tweet_id identification\n",
       "0        0x28cc61           test\n",
       "1        0x29e452          train\n",
       "2        0x2b3819          train\n",
       "3        0x2db41f           test\n",
       "4        0x2a2acc          train\n",
       "...           ...            ...\n",
       "1867530  0x227e25          train\n",
       "1867531  0x293813          train\n",
       "1867532  0x1e1a7e          train\n",
       "1867533  0x2156a5          train\n",
       "1867534  0x2bb9d2          train\n",
       "\n",
       "[1867535 rows x 2 columns]"
      ]
     },
     "execution_count": 1,
     "metadata": {},
     "output_type": "execute_result"
    }
   ],
   "source": [
    "import pandas as pd\n",
    "\n",
    "train_test = pd.read_csv(\"data_identification.csv\")\n",
    "train_test"
   ]
  },
  {
   "cell_type": "code",
   "execution_count": 2,
   "id": "df877e33",
   "metadata": {
    "scrolled": true
   },
   "outputs": [
    {
     "data": {
      "text/plain": [
       "train    1455563\n",
       "test      411972\n",
       "Name: identification, dtype: int64"
      ]
     },
     "execution_count": 2,
     "metadata": {},
     "output_type": "execute_result"
    }
   ],
   "source": [
    "train_test.identification.value_counts()"
   ]
  },
  {
   "cell_type": "markdown",
   "id": "0fd23f4e",
   "metadata": {},
   "source": [
    "#### Plot train test distribution"
   ]
  },
  {
   "cell_type": "code",
   "execution_count": 3,
   "id": "39e7a844",
   "metadata": {
    "scrolled": true
   },
   "outputs": [
    {
     "data": {
      "image/png": "[encoded data removed]",
      "text/plain": [
       "<Figure size 576x360 with 1 Axes>"
      ]
     },
     "metadata": {
      "needs_background": "light"
     },
     "output_type": "display_data"
    }
   ],
   "source": [
    "import matplotlib.pyplot as plt\n",
    "%matplotlib inline\n",
    "\n",
    "df_bar = pd.DataFrame({'Train or Test': train_test.identification.value_counts()},\n",
    "                        index=['train', 'test'])\n",
    "\n",
    "ax = df_bar.plot(kind = 'bar',\n",
    "                title = 'Train-Test distribution',       \n",
    "                rot = 0, fontsize = 12, figsize = (8,5))"
   ]
  },
  {
   "cell_type": "markdown",
   "id": "0271ab9d",
   "metadata": {},
   "source": [
    "#### 2. Read emotion.csv"
   ]
  },
  {
   "cell_type": "code",
   "execution_count": 4,
   "id": "70e035d8",
   "metadata": {
    "scrolled": false
   },
   "outputs": [
    {
     "data": {
      "text/html": [
       "<div>\n",
       "<style scoped>\n",
       "    .dataframe tbody tr th:only-of-type {\n",
       "        vertical-align: middle;\n",
       "    }\n",
       "\n",
       "    .dataframe tbody tr th {\n",
       "        vertical-align: top;\n",
       "    }\n",
       "\n",
       "    .dataframe thead th {\n",
       "        text-align: right;\n",
       "    }\n",
       "</style>\n",
       "<table border=\"1\" class=\"dataframe\">\n",
       "  <thead>\n",
       "    <tr style=\"text-align: right;\">\n",
       "      <th></th>\n",
       "      <th>tweet_id</th>\n",
       "      <th>emotion</th>\n",
       "    </tr>\n",
       "  </thead>\n",
       "  <tbody>\n",
       "    <tr>\n",
       "      <th>0</th>\n",
       "      <td>0x3140b1</td>\n",
       "      <td>sadness</td>\n",
       "    </tr>\n",
       "    <tr>\n",
       "      <th>1</th>\n",
       "      <td>0x368b73</td>\n",
       "      <td>disgust</td>\n",
       "    </tr>\n",
       "    <tr>\n",
       "      <th>2</th>\n",
       "      <td>0x296183</td>\n",
       "      <td>anticipation</td>\n",
       "    </tr>\n",
       "    <tr>\n",
       "      <th>3</th>\n",
       "      <td>0x2bd6e1</td>\n",
       "      <td>joy</td>\n",
       "    </tr>\n",
       "    <tr>\n",
       "      <th>4</th>\n",
       "      <td>0x2ee1dd</td>\n",
       "      <td>anticipation</td>\n",
       "    </tr>\n",
       "    <tr>\n",
       "      <th>...</th>\n",
       "      <td>...</td>\n",
       "      <td>...</td>\n",
       "    </tr>\n",
       "    <tr>\n",
       "      <th>1455558</th>\n",
       "      <td>0x38dba0</td>\n",
       "      <td>joy</td>\n",
       "    </tr>\n",
       "    <tr>\n",
       "      <th>1455559</th>\n",
       "      <td>0x300ea2</td>\n",
       "      <td>joy</td>\n",
       "    </tr>\n",
       "    <tr>\n",
       "      <th>1455560</th>\n",
       "      <td>0x360b99</td>\n",
       "      <td>fear</td>\n",
       "    </tr>\n",
       "    <tr>\n",
       "      <th>1455561</th>\n",
       "      <td>0x22eecf</td>\n",
       "      <td>joy</td>\n",
       "    </tr>\n",
       "    <tr>\n",
       "      <th>1455562</th>\n",
       "      <td>0x2fb282</td>\n",
       "      <td>anticipation</td>\n",
       "    </tr>\n",
       "  </tbody>\n",
       "</table>\n",
       "<p>1455563 rows × 2 columns</p>\n",
       "</div>"
      ],
      "text/plain": [
       "         tweet_id       emotion\n",
       "0        0x3140b1       sadness\n",
       "1        0x368b73       disgust\n",
       "2        0x296183  anticipation\n",
       "3        0x2bd6e1           joy\n",
       "4        0x2ee1dd  anticipation\n",
       "...           ...           ...\n",
       "1455558  0x38dba0           joy\n",
       "1455559  0x300ea2           joy\n",
       "1455560  0x360b99          fear\n",
       "1455561  0x22eecf           joy\n",
       "1455562  0x2fb282  anticipation\n",
       "\n",
       "[1455563 rows x 2 columns]"
      ]
     },
     "execution_count": 4,
     "metadata": {},
     "output_type": "execute_result"
    }
   ],
   "source": [
    "label = pd.read_csv(\"emotion.csv\")\n",
    "label"
   ]
  },
  {
   "cell_type": "code",
   "execution_count": 5,
   "id": "d0dbf1f1",
   "metadata": {
    "scrolled": true
   },
   "outputs": [
    {
     "data": {
      "text/plain": [
       "joy             516017\n",
       "anticipation    248935\n",
       "trust           205478\n",
       "sadness         193437\n",
       "disgust         139101\n",
       "fear             63999\n",
       "surprise         48729\n",
       "anger            39867\n",
       "Name: emotion, dtype: int64"
      ]
     },
     "execution_count": 5,
     "metadata": {},
     "output_type": "execute_result"
    }
   ],
   "source": [
    "label.emotion.value_counts()"
   ]
  },
  {
   "cell_type": "markdown",
   "id": "295a2e9f",
   "metadata": {},
   "source": [
    "#### Plot label distribution"
   ]
  },
  {
   "cell_type": "code",
   "execution_count": 6,
   "id": "eea428ff",
   "metadata": {
    "scrolled": true
   },
   "outputs": [
    {
     "data": {
      "image/png": "[encoded data removed]",
      "text/plain": [
       "<Figure size 576x360 with 1 Axes>"
      ]
     },
     "metadata": {
      "needs_background": "light"
     },
     "output_type": "display_data"
    }
   ],
   "source": [
    "import matplotlib.pyplot as plt\n",
    "%matplotlib inline\n",
    "\n",
    "df_bar = pd.DataFrame({'Emotion': label.emotion.value_counts()},\n",
    "                        index=['joy', 'anticipation', 'trust', 'sadness', 'disgust', 'fear', 'surprise', 'anger'])\n",
    "\n",
    "ax = df_bar.plot(kind = 'bar',\n",
    "                title = 'Label distribution',       \n",
    "                rot = 0, fontsize = 12, figsize = (8,5))"
   ]
  },
  {
   "cell_type": "markdown",
   "id": "7038615d",
   "metadata": {},
   "source": [
    "#### 3. Read tweets_DM.json"
   ]
  },
  {
   "cell_type": "code",
   "execution_count": 7,
   "id": "d863a3f7",
   "metadata": {},
   "outputs": [
    {
     "name": "stdout",
     "output_type": "stream",
     "text": [
      "<class 'dict'>\n"
     ]
    }
   ],
   "source": [
    "import json \n",
    "\n",
    "tweets = []\n",
    "for line in open('tweets_DM.json', 'r'):\n",
    "    tweets.append(json.loads(line))\n",
    "\n",
    "print(type(tweets[0]))"
   ]
  },
  {
   "cell_type": "code",
   "execution_count": 8,
   "id": "4343fa1c",
   "metadata": {},
   "outputs": [
    {
     "name": "stdout",
     "output_type": "stream",
     "text": [
      "21:15:36\n",
      "76536\n"
     ]
    }
   ],
   "source": [
    "t = tweets[10]['_crawldate'][-8:]\n",
    "print(t)\n",
    "print(int(t[:2])*3600 + int(t[3:5])*60 + int(t[6:]))"
   ]
  },
  {
   "cell_type": "code",
   "execution_count": 9,
   "id": "09763e42",
   "metadata": {},
   "outputs": [
    {
     "data": {
      "text/html": [
       "<div>\n",
       "<style scoped>\n",
       "    .dataframe tbody tr th:only-of-type {\n",
       "        vertical-align: middle;\n",
       "    }\n",
       "\n",
       "    .dataframe tbody tr th {\n",
       "        vertical-align: top;\n",
       "    }\n",
       "\n",
       "    .dataframe thead th {\n",
       "        text-align: right;\n",
       "    }\n",
       "</style>\n",
       "<table border=\"1\" class=\"dataframe\">\n",
       "  <thead>\n",
       "    <tr style=\"text-align: right;\">\n",
       "      <th></th>\n",
       "      <th>tweet_id</th>\n",
       "      <th>text</th>\n",
       "      <th>score</th>\n",
       "      <th>time</th>\n",
       "    </tr>\n",
       "  </thead>\n",
       "  <tbody>\n",
       "    <tr>\n",
       "      <th>0</th>\n",
       "      <td>0x376b20</td>\n",
       "      <td>People who post \"add me on #Snapchat\" must be ...</td>\n",
       "      <td>391</td>\n",
       "      <td>42167</td>\n",
       "    </tr>\n",
       "    <tr>\n",
       "      <th>1</th>\n",
       "      <td>0x2d5350</td>\n",
       "      <td>@brianklaas As we see, Trump is dangerous to #...</td>\n",
       "      <td>433</td>\n",
       "      <td>17529</td>\n",
       "    </tr>\n",
       "    <tr>\n",
       "      <th>2</th>\n",
       "      <td>0x28b412</td>\n",
       "      <td>Confident of your obedience, I write to you, k...</td>\n",
       "      <td>232</td>\n",
       "      <td>16760</td>\n",
       "    </tr>\n",
       "    <tr>\n",
       "      <th>3</th>\n",
       "      <td>0x1cd5b0</td>\n",
       "      <td>Now ISSA is stalking Tasha 😂😂😂 &lt;LH&gt;</td>\n",
       "      <td>376</td>\n",
       "      <td>85985</td>\n",
       "    </tr>\n",
       "    <tr>\n",
       "      <th>4</th>\n",
       "      <td>0x2de201</td>\n",
       "      <td>\"Trust is not the same as faith. A friend is s...</td>\n",
       "      <td>989</td>\n",
       "      <td>62339</td>\n",
       "    </tr>\n",
       "    <tr>\n",
       "      <th>...</th>\n",
       "      <td>...</td>\n",
       "      <td>...</td>\n",
       "      <td>...</td>\n",
       "      <td>...</td>\n",
       "    </tr>\n",
       "    <tr>\n",
       "      <th>1867530</th>\n",
       "      <td>0x316b80</td>\n",
       "      <td>When you buy the last 2 tickets remaining for ...</td>\n",
       "      <td>827</td>\n",
       "      <td>46312</td>\n",
       "    </tr>\n",
       "    <tr>\n",
       "      <th>1867531</th>\n",
       "      <td>0x29d0cb</td>\n",
       "      <td>I swear all this hard work gone pay off one da...</td>\n",
       "      <td>368</td>\n",
       "      <td>64444</td>\n",
       "    </tr>\n",
       "    <tr>\n",
       "      <th>1867532</th>\n",
       "      <td>0x2a6a4f</td>\n",
       "      <td>@Parcel2Go no card left when I wasn't in so I ...</td>\n",
       "      <td>498</td>\n",
       "      <td>39872</td>\n",
       "    </tr>\n",
       "    <tr>\n",
       "      <th>1867533</th>\n",
       "      <td>0x24faed</td>\n",
       "      <td>Ah, corporate life, where you can date &lt;LH&gt; us...</td>\n",
       "      <td>840</td>\n",
       "      <td>51906</td>\n",
       "    </tr>\n",
       "    <tr>\n",
       "      <th>1867534</th>\n",
       "      <td>0x34be8c</td>\n",
       "      <td>Blessed to be living #Sundayvibes &lt;LH&gt;</td>\n",
       "      <td>360</td>\n",
       "      <td>6007</td>\n",
       "    </tr>\n",
       "  </tbody>\n",
       "</table>\n",
       "<p>1867535 rows × 4 columns</p>\n",
       "</div>"
      ],
      "text/plain": [
       "         tweet_id                                               text  score  \\\n",
       "0        0x376b20  People who post \"add me on #Snapchat\" must be ...    391   \n",
       "1        0x2d5350  @brianklaas As we see, Trump is dangerous to #...    433   \n",
       "2        0x28b412  Confident of your obedience, I write to you, k...    232   \n",
       "3        0x1cd5b0                Now ISSA is stalking Tasha 😂😂😂 <LH>    376   \n",
       "4        0x2de201  \"Trust is not the same as faith. A friend is s...    989   \n",
       "...           ...                                                ...    ...   \n",
       "1867530  0x316b80  When you buy the last 2 tickets remaining for ...    827   \n",
       "1867531  0x29d0cb  I swear all this hard work gone pay off one da...    368   \n",
       "1867532  0x2a6a4f  @Parcel2Go no card left when I wasn't in so I ...    498   \n",
       "1867533  0x24faed  Ah, corporate life, where you can date <LH> us...    840   \n",
       "1867534  0x34be8c             Blessed to be living #Sundayvibes <LH>    360   \n",
       "\n",
       "          time  \n",
       "0        42167  \n",
       "1        17529  \n",
       "2        16760  \n",
       "3        85985  \n",
       "4        62339  \n",
       "...        ...  \n",
       "1867530  46312  \n",
       "1867531  64444  \n",
       "1867532  39872  \n",
       "1867533  51906  \n",
       "1867534   6007  \n",
       "\n",
       "[1867535 rows x 4 columns]"
      ]
     },
     "execution_count": 9,
     "metadata": {},
     "output_type": "execute_result"
    }
   ],
   "source": [
    "data = {}\n",
    "\n",
    "# tweet_id\n",
    "data['tweet_id'] = [tweet['_source']['tweet']['tweet_id'] for tweet in tweets]\n",
    "# text\n",
    "data['text'] = [tweet['_source']['tweet']['text'] for tweet in tweets]\n",
    "# score\n",
    "data['score'] = [tweet['_score'] for tweet in tweets]\n",
    "# time\n",
    "time = [tweets[i]['_crawldate'][-8:] for i in range(len(tweets))]\n",
    "data['time'] = [int(t[:2])*3600 + int(t[3:5])*60 + int(t[6:]) for t in time]\n",
    "\n",
    "df = pd.DataFrame(data)\n",
    "df"
   ]
  },
  {
   "cell_type": "code",
   "execution_count": 10,
   "id": "756df8d9",
   "metadata": {},
   "outputs": [
    {
     "data": {
      "text/plain": [
       "'Now ISSA is stalking Tasha 😂😂😂 <LH>'"
      ]
     },
     "execution_count": 10,
     "metadata": {},
     "output_type": "execute_result"
    }
   ],
   "source": [
    "df['text'][3]"
   ]
  },
  {
   "cell_type": "code",
   "execution_count": 11,
   "id": "c6ee8f2d",
   "metadata": {},
   "outputs": [
    {
     "data": {
      "text/plain": [
       "True"
      ]
     },
     "execution_count": 11,
     "metadata": {},
     "output_type": "execute_result"
    }
   ],
   "source": [
    "'😂' in df['text'][3]"
   ]
  },
  {
   "cell_type": "markdown",
   "id": "1a25f37f",
   "metadata": {},
   "source": [
    "### Data prepocessing\n",
    "\n",
    "#### Construct training data and testing data"
   ]
  },
  {
   "cell_type": "code",
   "execution_count": 12,
   "id": "580fa1a1",
   "metadata": {},
   "outputs": [],
   "source": [
    "# dictionary to see a tweet is training data or testing data\n",
    "train_or_test = {}\n",
    "\n",
    "for i in range(len(train_test)):\n",
    "    train_or_test[train_test['tweet_id'][i]] = train_test['identification'][i]"
   ]
  },
  {
   "cell_type": "code",
   "execution_count": 13,
   "id": "28b1d2a2",
   "metadata": {},
   "outputs": [],
   "source": [
    "# dictionary to see what is the emotion of the tweet\n",
    "emotion = {}\n",
    "\n",
    "for i in range(len(label)):\n",
    "    emotion[label['tweet_id'][i]] = label['emotion'][i]"
   ]
  },
  {
   "cell_type": "code",
   "execution_count": 14,
   "id": "c6394991",
   "metadata": {},
   "outputs": [],
   "source": [
    "# construct training data and testing data\n",
    "train_id = []\n",
    "train_text = []\n",
    "train_label = []\n",
    "\n",
    "test_id = []\n",
    "test_text = []\n",
    "\n",
    "for i in range(len(df)):\n",
    "    ID = df['tweet_id'][i]\n",
    "    if train_or_test[ID]=='train':\n",
    "        train_id.append(ID)\n",
    "        train_text.append(df['text'][i])\n",
    "        train_label.append(emotion[ID])\n",
    "    else:\n",
    "        test_id.append(ID)\n",
    "        test_text.append(df['text'][i])\n",
    "\n",
    "df_train = pd.DataFrame({'tweet_id':train_id, 'text':train_text, 'emotion':train_label})\n",
    "df_test = pd.DataFrame({'tweet_id':test_id, 'text':test_text})"
   ]
  },
  {
   "cell_type": "code",
   "execution_count": 15,
   "id": "c26d2834",
   "metadata": {
    "scrolled": false
   },
   "outputs": [
    {
     "data": {
      "text/html": [
       "<div>\n",
       "<style scoped>\n",
       "    .dataframe tbody tr th:only-of-type {\n",
       "        vertical-align: middle;\n",
       "    }\n",
       "\n",
       "    .dataframe tbody tr th {\n",
       "        vertical-align: top;\n",
       "    }\n",
       "\n",
       "    .dataframe thead th {\n",
       "        text-align: right;\n",
       "    }\n",
       "</style>\n",
       "<table border=\"1\" class=\"dataframe\">\n",
       "  <thead>\n",
       "    <tr style=\"text-align: right;\">\n",
       "      <th></th>\n",
       "      <th>tweet_id</th>\n",
       "      <th>text</th>\n",
       "      <th>emotion</th>\n",
       "    </tr>\n",
       "  </thead>\n",
       "  <tbody>\n",
       "    <tr>\n",
       "      <th>0</th>\n",
       "      <td>0x376b20</td>\n",
       "      <td>People who post \"add me on #Snapchat\" must be ...</td>\n",
       "      <td>anticipation</td>\n",
       "    </tr>\n",
       "    <tr>\n",
       "      <th>1</th>\n",
       "      <td>0x2d5350</td>\n",
       "      <td>@brianklaas As we see, Trump is dangerous to #...</td>\n",
       "      <td>sadness</td>\n",
       "    </tr>\n",
       "    <tr>\n",
       "      <th>2</th>\n",
       "      <td>0x1cd5b0</td>\n",
       "      <td>Now ISSA is stalking Tasha 😂😂😂 &lt;LH&gt;</td>\n",
       "      <td>fear</td>\n",
       "    </tr>\n",
       "    <tr>\n",
       "      <th>3</th>\n",
       "      <td>0x1d755c</td>\n",
       "      <td>@RISKshow @TheKevinAllison Thx for the BEST TI...</td>\n",
       "      <td>joy</td>\n",
       "    </tr>\n",
       "    <tr>\n",
       "      <th>4</th>\n",
       "      <td>0x2c91a8</td>\n",
       "      <td>Still waiting on those supplies Liscus. &lt;LH&gt;</td>\n",
       "      <td>anticipation</td>\n",
       "    </tr>\n",
       "    <tr>\n",
       "      <th>...</th>\n",
       "      <td>...</td>\n",
       "      <td>...</td>\n",
       "      <td>...</td>\n",
       "    </tr>\n",
       "    <tr>\n",
       "      <th>1455558</th>\n",
       "      <td>0x321566</td>\n",
       "      <td>I'm SO HAPPY!!! #NoWonder the name of this sho...</td>\n",
       "      <td>joy</td>\n",
       "    </tr>\n",
       "    <tr>\n",
       "      <th>1455559</th>\n",
       "      <td>0x38959e</td>\n",
       "      <td>In every circumtance I'd like to be thankful t...</td>\n",
       "      <td>joy</td>\n",
       "    </tr>\n",
       "    <tr>\n",
       "      <th>1455560</th>\n",
       "      <td>0x2cbca6</td>\n",
       "      <td>there's currently two girls walking around the...</td>\n",
       "      <td>joy</td>\n",
       "    </tr>\n",
       "    <tr>\n",
       "      <th>1455561</th>\n",
       "      <td>0x24faed</td>\n",
       "      <td>Ah, corporate life, where you can date &lt;LH&gt; us...</td>\n",
       "      <td>joy</td>\n",
       "    </tr>\n",
       "    <tr>\n",
       "      <th>1455562</th>\n",
       "      <td>0x34be8c</td>\n",
       "      <td>Blessed to be living #Sundayvibes &lt;LH&gt;</td>\n",
       "      <td>joy</td>\n",
       "    </tr>\n",
       "  </tbody>\n",
       "</table>\n",
       "<p>1455563 rows × 3 columns</p>\n",
       "</div>"
      ],
      "text/plain": [
       "         tweet_id                                               text  \\\n",
       "0        0x376b20  People who post \"add me on #Snapchat\" must be ...   \n",
       "1        0x2d5350  @brianklaas As we see, Trump is dangerous to #...   \n",
       "2        0x1cd5b0                Now ISSA is stalking Tasha 😂😂😂 <LH>   \n",
       "3        0x1d755c  @RISKshow @TheKevinAllison Thx for the BEST TI...   \n",
       "4        0x2c91a8       Still waiting on those supplies Liscus. <LH>   \n",
       "...           ...                                                ...   \n",
       "1455558  0x321566  I'm SO HAPPY!!! #NoWonder the name of this sho...   \n",
       "1455559  0x38959e  In every circumtance I'd like to be thankful t...   \n",
       "1455560  0x2cbca6  there's currently two girls walking around the...   \n",
       "1455561  0x24faed  Ah, corporate life, where you can date <LH> us...   \n",
       "1455562  0x34be8c             Blessed to be living #Sundayvibes <LH>   \n",
       "\n",
       "              emotion  \n",
       "0        anticipation  \n",
       "1             sadness  \n",
       "2                fear  \n",
       "3                 joy  \n",
       "4        anticipation  \n",
       "...               ...  \n",
       "1455558           joy  \n",
       "1455559           joy  \n",
       "1455560           joy  \n",
       "1455561           joy  \n",
       "1455562           joy  \n",
       "\n",
       "[1455563 rows x 3 columns]"
      ]
     },
     "execution_count": 15,
     "metadata": {},
     "output_type": "execute_result"
    }
   ],
   "source": [
    "df_train"
   ]
  },
  {
   "cell_type": "code",
   "execution_count": 16,
   "id": "ce76b35b",
   "metadata": {
    "scrolled": false
   },
   "outputs": [
    {
     "data": {
      "text/html": [
       "<div>\n",
       "<style scoped>\n",
       "    .dataframe tbody tr th:only-of-type {\n",
       "        vertical-align: middle;\n",
       "    }\n",
       "\n",
       "    .dataframe tbody tr th {\n",
       "        vertical-align: top;\n",
       "    }\n",
       "\n",
       "    .dataframe thead th {\n",
       "        text-align: right;\n",
       "    }\n",
       "</style>\n",
       "<table border=\"1\" class=\"dataframe\">\n",
       "  <thead>\n",
       "    <tr style=\"text-align: right;\">\n",
       "      <th></th>\n",
       "      <th>tweet_id</th>\n",
       "      <th>text</th>\n",
       "    </tr>\n",
       "  </thead>\n",
       "  <tbody>\n",
       "    <tr>\n",
       "      <th>0</th>\n",
       "      <td>0x28b412</td>\n",
       "      <td>Confident of your obedience, I write to you, k...</td>\n",
       "    </tr>\n",
       "    <tr>\n",
       "      <th>1</th>\n",
       "      <td>0x2de201</td>\n",
       "      <td>\"Trust is not the same as faith. A friend is s...</td>\n",
       "    </tr>\n",
       "    <tr>\n",
       "      <th>2</th>\n",
       "      <td>0x218443</td>\n",
       "      <td>When do you have enough ? When are you satisfi...</td>\n",
       "    </tr>\n",
       "    <tr>\n",
       "      <th>3</th>\n",
       "      <td>0x2939d5</td>\n",
       "      <td>God woke you up, now chase the day #GodsPlan #...</td>\n",
       "    </tr>\n",
       "    <tr>\n",
       "      <th>4</th>\n",
       "      <td>0x26289a</td>\n",
       "      <td>In these tough times, who do YOU turn to as yo...</td>\n",
       "    </tr>\n",
       "    <tr>\n",
       "      <th>...</th>\n",
       "      <td>...</td>\n",
       "      <td>...</td>\n",
       "    </tr>\n",
       "    <tr>\n",
       "      <th>411967</th>\n",
       "      <td>0x2913b4</td>\n",
       "      <td>\"For this is the message that ye heard from th...</td>\n",
       "    </tr>\n",
       "    <tr>\n",
       "      <th>411968</th>\n",
       "      <td>0x2a980e</td>\n",
       "      <td>\"There is a lad here, which hath five barley l...</td>\n",
       "    </tr>\n",
       "    <tr>\n",
       "      <th>411969</th>\n",
       "      <td>0x316b80</td>\n",
       "      <td>When you buy the last 2 tickets remaining for ...</td>\n",
       "    </tr>\n",
       "    <tr>\n",
       "      <th>411970</th>\n",
       "      <td>0x29d0cb</td>\n",
       "      <td>I swear all this hard work gone pay off one da...</td>\n",
       "    </tr>\n",
       "    <tr>\n",
       "      <th>411971</th>\n",
       "      <td>0x2a6a4f</td>\n",
       "      <td>@Parcel2Go no card left when I wasn't in so I ...</td>\n",
       "    </tr>\n",
       "  </tbody>\n",
       "</table>\n",
       "<p>411972 rows × 2 columns</p>\n",
       "</div>"
      ],
      "text/plain": [
       "        tweet_id                                               text\n",
       "0       0x28b412  Confident of your obedience, I write to you, k...\n",
       "1       0x2de201  \"Trust is not the same as faith. A friend is s...\n",
       "2       0x218443  When do you have enough ? When are you satisfi...\n",
       "3       0x2939d5  God woke you up, now chase the day #GodsPlan #...\n",
       "4       0x26289a  In these tough times, who do YOU turn to as yo...\n",
       "...          ...                                                ...\n",
       "411967  0x2913b4  \"For this is the message that ye heard from th...\n",
       "411968  0x2a980e  \"There is a lad here, which hath five barley l...\n",
       "411969  0x316b80  When you buy the last 2 tickets remaining for ...\n",
       "411970  0x29d0cb  I swear all this hard work gone pay off one da...\n",
       "411971  0x2a6a4f  @Parcel2Go no card left when I wasn't in so I ...\n",
       "\n",
       "[411972 rows x 2 columns]"
      ]
     },
     "execution_count": 16,
     "metadata": {},
     "output_type": "execute_result"
    }
   ],
   "source": [
    "df_test"
   ]
  },
  {
   "cell_type": "markdown",
   "id": "6be04451",
   "metadata": {},
   "source": [
    "### LSTM\n",
    "\n",
    "#### In the below cells, I tried to construct a LSTM model using keras api, and train the model with the texts."
   ]
  },
  {
   "cell_type": "code",
   "execution_count": 17,
   "id": "f5ea4604",
   "metadata": {},
   "outputs": [],
   "source": [
    "import numpy as np\n",
    "import pandas as pd\n",
    "from keras.models import Sequential\n",
    "from keras.layers import Dense, Embedding, LSTM, SpatialDropout1D\n",
    "from sklearn.model_selection import train_test_split\n",
    "from sklearn.feature_extraction.text import CountVectorizer\n",
    "from keras.preprocessing.text import Tokenizer\n",
    "from keras.preprocessing.sequence import pad_sequences\n",
    "from keras.utils.np_utils import to_categorical\n",
    "import re"
   ]
  },
  {
   "cell_type": "markdown",
   "id": "60063cd1",
   "metadata": {},
   "source": [
    "#### Preprocess text (convert all characters to lowercase, and remove numbers)"
   ]
  },
  {
   "cell_type": "code",
   "execution_count": 18,
   "id": "3f2db5e3",
   "metadata": {
    "scrolled": false
   },
   "outputs": [],
   "source": [
    "df_train['text'] = df_train['text'].str.lower()\n",
    "df_train.text = df_train.text.apply(lambda text: re.sub('[^a-zA-z0-9\\s]', ' ', text))"
   ]
  },
  {
   "cell_type": "code",
   "execution_count": 19,
   "id": "4d677bcc",
   "metadata": {
    "scrolled": true
   },
   "outputs": [
    {
     "data": {
      "text/plain": [
       "795052"
      ]
     },
     "execution_count": 19,
     "metadata": {},
     "output_type": "execute_result"
    }
   ],
   "source": [
    "# calculate number of unique words\n",
    "words = []\n",
    "for text in df_train['text']:\n",
    "    tmp = text.split(' ')\n",
    "    words.extend(tmp)\n",
    "\n",
    "unique = set(words) \n",
    "len(unique)"
   ]
  },
  {
   "cell_type": "markdown",
   "id": "05209f5b",
   "metadata": {},
   "source": [
    "#### We can see that there are 795052 unique words in the whole text after preprocessing."
   ]
  },
  {
   "cell_type": "markdown",
   "id": "9314e271",
   "metadata": {},
   "source": [
    "#### Convert text to vectors using keras api. Here the vocabSize parameter is determined by try and error. At first, I use vocabSize = 5000, and the result is not good. Therefore, I tried to increase the vocabSize and I got better result."
   ]
  },
  {
   "cell_type": "code",
   "execution_count": 20,
   "id": "6a1e3083",
   "metadata": {},
   "outputs": [],
   "source": [
    "# num_words: the maximum number of words to keep, based on word frequency. \n",
    "# Only the most common num_words-1 words will be kept.\n",
    "\n",
    "vocabSize = 25000\n",
    "\n",
    "tokenizer = Tokenizer(num_words=vocabSize, split=' ')\n",
    "tokenizer.fit_on_texts(df['text'].values)\n",
    "\n",
    "X = tokenizer.texts_to_sequences(df_train['text'])\n",
    "X = pad_sequences(X)"
   ]
  },
  {
   "cell_type": "code",
   "execution_count": 21,
   "id": "eb9dae4b",
   "metadata": {
    "scrolled": true
   },
   "outputs": [
    {
     "name": "stdout",
     "output_type": "stream",
     "text": [
      "43\n"
     ]
    },
    {
     "data": {
      "text/plain": [
       "array([    0,     0,     0,     0,     0,     0,     0,     0,     0,\n",
       "           0,     0,     0,     0,     0,     0,     0,     0,     0,\n",
       "           0,     0,     0,     0,     0,     0,     0,     0,     0,\n",
       "           0,    59,    61,   555,  1118,    17,    13,  1193,   301,\n",
       "          18, 20582,  1209,   133,    15,   477,     1], dtype=int32)"
      ]
     },
     "execution_count": 21,
     "metadata": {},
     "output_type": "execute_result"
    }
   ],
   "source": [
    "print(len(X[0]))\n",
    "input_length = len(X[0])\n",
    "X[0]"
   ]
  },
  {
   "cell_type": "markdown",
   "id": "33764382",
   "metadata": {},
   "source": [
    "#### From the above cell, we can see that the length of input vectors is 43."
   ]
  },
  {
   "cell_type": "markdown",
   "id": "5bf2f3d7",
   "metadata": {},
   "source": [
    "#### Define LSTM model"
   ]
  },
  {
   "cell_type": "code",
   "execution_count": 22,
   "id": "96e75821",
   "metadata": {},
   "outputs": [],
   "source": [
    "embed_dim = 128\n",
    "lstm_out = 196\n",
    "num_of_class = 8\n",
    "\n",
    "model = Sequential()\n",
    "model.add(Embedding(input_dim=vocabSize, output_dim=embed_dim, input_length=input_length))\n",
    "model.add(LSTM(lstm_out, dropout=0.3, recurrent_dropout=0.3))\n",
    "model.add(Dense(num_of_class, activation='softmax'))\n",
    "model.compile(loss = 'categorical_crossentropy', optimizer='adam', metrics = ['accuracy'])"
   ]
  },
  {
   "cell_type": "markdown",
   "id": "9e188d97",
   "metadata": {},
   "source": [
    "#### Encode labels by one-hot encoding"
   ]
  },
  {
   "cell_type": "code",
   "execution_count": 23,
   "id": "a129fe5b",
   "metadata": {},
   "outputs": [
    {
     "data": {
      "text/plain": [
       "array([<1455563x8 sparse matrix of type '<class 'numpy.float64'>'\n",
       "\twith 1455563 stored elements in Compressed Sparse Row format>],\n",
       "      dtype=object)"
      ]
     },
     "execution_count": 23,
     "metadata": {},
     "output_type": "execute_result"
    }
   ],
   "source": [
    "from sklearn.preprocessing import OneHotEncoder\n",
    "\n",
    "enc = OneHotEncoder(handle_unknown='ignore')\n",
    "y = enc.fit_transform(df_train['emotion'].to_numpy().reshape(-1,1))\n",
    "np.unique(y)"
   ]
  },
  {
   "cell_type": "code",
   "execution_count": 24,
   "id": "2167d790",
   "metadata": {},
   "outputs": [
    {
     "data": {
      "text/plain": [
       "array([[0., 1., 0., ..., 0., 0., 0.],\n",
       "       [0., 0., 0., ..., 1., 0., 0.],\n",
       "       [0., 0., 0., ..., 0., 0., 0.],\n",
       "       ...,\n",
       "       [0., 0., 0., ..., 0., 0., 0.],\n",
       "       [0., 0., 0., ..., 0., 0., 0.],\n",
       "       [0., 0., 0., ..., 0., 0., 0.]])"
      ]
     },
     "execution_count": 24,
     "metadata": {},
     "output_type": "execute_result"
    }
   ],
   "source": [
    "y = y.toarray()\n",
    "y"
   ]
  },
  {
   "cell_type": "markdown",
   "id": "f15f71bc",
   "metadata": {},
   "source": [
    "#### Train model for 15 epochs "
   ]
  },
  {
   "cell_type": "code",
   "execution_count": 25,
   "id": "28570b15",
   "metadata": {
    "scrolled": false
   },
   "outputs": [
    {
     "name": "stdout",
     "output_type": "stream",
     "text": [
      "Epoch 1/15\n",
      "9098/9098 [==============================] - 861s 94ms/step - loss: 1.2199 - accuracy: 0.5605 - val_loss: 1.1320 - val_accuracy: 0.5903\n",
      "Epoch 2/15\n",
      "9098/9098 [==============================] - 820s 90ms/step - loss: 1.0874 - accuracy: 0.6063 - val_loss: 1.0973 - val_accuracy: 0.6029\n",
      "Epoch 3/15\n",
      "9098/9098 [==============================] - 820s 90ms/step - loss: 1.0327 - accuracy: 0.6258 - val_loss: 1.0873 - val_accuracy: 0.6072\n",
      "Epoch 4/15\n",
      "9098/9098 [==============================] - 821s 90ms/step - loss: 0.9934 - accuracy: 0.6399 - val_loss: 1.0942 - val_accuracy: 0.6077\n",
      "Epoch 5/15\n",
      "9098/9098 [==============================] - 821s 90ms/step - loss: 0.9619 - accuracy: 0.6514 - val_loss: 1.1003 - val_accuracy: 0.6072\n",
      "Epoch 6/15\n",
      "9098/9098 [==============================] - 822s 90ms/step - loss: 0.9357 - accuracy: 0.6612 - val_loss: 1.1155 - val_accuracy: 0.6058\n",
      "Epoch 7/15\n",
      "9098/9098 [==============================] - 821s 90ms/step - loss: 0.9138 - accuracy: 0.6688 - val_loss: 1.1294 - val_accuracy: 0.6045\n",
      "Epoch 8/15\n",
      "9098/9098 [==============================] - 820s 90ms/step - loss: 0.8952 - accuracy: 0.6756 - val_loss: 1.1483 - val_accuracy: 0.6032\n",
      "Epoch 9/15\n",
      "9098/9098 [==============================] - 820s 90ms/step - loss: 0.8787 - accuracy: 0.6815 - val_loss: 1.1583 - val_accuracy: 0.6013\n",
      "Epoch 10/15\n",
      "9098/9098 [==============================] - 820s 90ms/step - loss: 0.8645 - accuracy: 0.6861 - val_loss: 1.1718 - val_accuracy: 0.6015\n",
      "Epoch 11/15\n",
      "9098/9098 [==============================] - 820s 90ms/step - loss: 0.8528 - accuracy: 0.6904 - val_loss: 1.1852 - val_accuracy: 0.5997\n",
      "Epoch 12/15\n",
      "9098/9098 [==============================] - 829s 91ms/step - loss: 0.8419 - accuracy: 0.6948 - val_loss: 1.1939 - val_accuracy: 0.5990\n",
      "Epoch 13/15\n",
      "9098/9098 [==============================] - 833s 92ms/step - loss: 0.8313 - accuracy: 0.6984 - val_loss: 1.2084 - val_accuracy: 0.5978\n",
      "Epoch 14/15\n",
      "9098/9098 [==============================] - 821s 90ms/step - loss: 0.8226 - accuracy: 0.7012 - val_loss: 1.2219 - val_accuracy: 0.5974\n",
      "Epoch 15/15\n",
      "9098/9098 [==============================] - 834s 92ms/step - loss: 0.8147 - accuracy: 0.7037 - val_loss: 1.2337 - val_accuracy: 0.5959\n"
     ]
    },
    {
     "data": {
      "text/plain": [
       "<keras.callbacks.History at 0x7fbd0db6e7c0>"
      ]
     },
     "execution_count": 25,
     "metadata": {},
     "output_type": "execute_result"
    }
   ],
   "source": [
    "X_train, X_test, y_train, y_test = train_test_split(X, y, test_size=0.2, random_state=42)\n",
    "\n",
    "model.fit(X_train, y_train, validation_data = (X_test,y_test), epochs=15, batch_size=128)"
   ]
  },
  {
   "cell_type": "markdown",
   "id": "595174c2",
   "metadata": {},
   "source": [
    "#### From the above training log, we can see that training acuracy keep increasing (from 0.56 to 0.7), but the validation accuracy didn't increase at all. The validation accuracy keep around 0.6. Therefore, this model may suffer from overfitting, and I think this model is not suitable for this task."
   ]
  },
  {
   "cell_type": "markdown",
   "id": "8d90bcdc",
   "metadata": {},
   "source": [
    "#### Test model"
   ]
  },
  {
   "cell_type": "code",
   "execution_count": 26,
   "id": "76f054ce",
   "metadata": {},
   "outputs": [],
   "source": [
    "# Predict\n",
    "y_train_pred = model.predict(X_train)\n",
    "y_test_pred = model.predict(X_test)"
   ]
  },
  {
   "cell_type": "markdown",
   "id": "09b7fc0f",
   "metadata": {},
   "source": [
    "#### Inverse transform the label from ont-hot encoding to original label."
   ]
  },
  {
   "cell_type": "code",
   "execution_count": 27,
   "id": "0fac4b4c",
   "metadata": {},
   "outputs": [],
   "source": [
    "y_train_pred = enc.inverse_transform(y_train_pred)\n",
    "y_train_pred = [x[0] for x in y_train_pred]\n",
    "\n",
    "y_test_pred = enc.inverse_transform(y_test_pred)\n",
    "y_test_pred = [x[0] for x in y_test_pred]\n",
    "\n",
    "y_train = enc.inverse_transform(y_train)\n",
    "y_train = [x[0] for x in y_train]\n",
    "\n",
    "y_test = enc.inverse_transform(y_test)\n",
    "y_test = [x[0] for x in y_test]"
   ]
  },
  {
   "cell_type": "code",
   "execution_count": 28,
   "id": "ba070bf3",
   "metadata": {},
   "outputs": [
    {
     "name": "stdout",
     "output_type": "stream",
     "text": [
      "training accuracy: 0.7591\n",
      "validation accuracy: 0.5959\n",
      "training f1-score: 0.7076\n",
      "validation f1-score: 0.5132\n"
     ]
    }
   ],
   "source": [
    "from sklearn.metrics import accuracy_score\n",
    "from sklearn.metrics import f1_score\n",
    "\n",
    "# Accuracy\n",
    "acc_train = accuracy_score(y_true=y_train, y_pred=y_train_pred)\n",
    "acc_test = accuracy_score(y_true=y_test, y_pred=y_test_pred)\n",
    "\n",
    "print('training accuracy: {}'.format(round(acc_train, 4)))\n",
    "print('validation accuracy: {}'.format(round(acc_test, 4)))\n",
    "\n",
    "# f1-score\n",
    "labels = ['joy', 'anticipation', 'trust', 'sadness', 'disgust', 'fear', 'surprise', 'anger']\n",
    "f1_train = f1_score(y_true=y_train, y_pred=y_train_pred, average='macro', labels=labels)\n",
    "f1_test = f1_score(y_true=y_test, y_pred=y_test_pred, average='macro', labels=labels)\n",
    "\n",
    "print('training f1-score: {}'.format(round(f1_train, 4)))\n",
    "print('validation f1-score: {}'.format(round(f1_test, 4))) "
   ]
  },
  {
   "cell_type": "markdown",
   "id": "5744639e",
   "metadata": {},
   "source": [
    "#### The validation f1-score is 0.51, which is better than using Logistic regression on TF-IDF features (best validation score in part1, f1-score = 0.468). However, after submmitting the result on kaggle, the f1-score was only 0.44. Therefore, I think my splitting of training data and validation data is not good enough. Maybe using k-fold cross validation will be more precise for validation."
   ]
  },
  {
   "cell_type": "markdown",
   "id": "6c827335",
   "metadata": {},
   "source": [
    "### Write to file"
   ]
  },
  {
   "cell_type": "code",
   "execution_count": 29,
   "id": "4d8d8875",
   "metadata": {},
   "outputs": [],
   "source": [
    "df_test['text'] = df_test['text'].str.lower()\n",
    "df_test.text = df_test.text.apply(lambda text: re.sub('[^a-zA-z0-9\\s]', ' ', text))\n",
    "\n",
    "X = tokenizer.texts_to_sequences(df_test['text'])\n",
    "X = pad_sequences(X, maxlen=input_length)\n",
    "\n",
    "test_pred = model.predict(X)\n",
    "\n",
    "test_pred = enc.inverse_transform(test_pred)\n",
    "test_pred = [x[0] for x in test_pred]"
   ]
  },
  {
   "cell_type": "code",
   "execution_count": 30,
   "id": "3c6dd9aa",
   "metadata": {},
   "outputs": [],
   "source": [
    "import csv\n",
    "\n",
    "with open('./output/output-lstm-0.51.csv', 'w', newline='') as csvfile:\n",
    "    writer = csv.writer(csvfile)\n",
    "\n",
    "    writer.writerow(['id', 'emotion'])\n",
    "    \n",
    "    for i in range(len(df_test)):\n",
    "        writer.writerow([df_test['tweet_id'][i], test_pred[i]])"
   ]
  },
  {
   "cell_type": "markdown",
   "id": "cf9a9f2e",
   "metadata": {},
   "source": [
    "#### Conclusion for kaggle competition: After trying many methods, my final best result is from Logistic regression with TF-IDF features. I had asked my teammates (of the final project) for some advices, and they said that using BERT will highly improve the f1-score. However, they also said that BERT takes a long time to train, so I didn't try BERT in this lab. I think this lab is very different from the final project (AI cup), since BERT in final project didn't perform well. Here we can see that we have to try different methods for data mining tasks, if a method is good on a task, it may not also be good on another tasks."
   ]
  },
  {
   "cell_type": "code",
   "execution_count": null,
   "id": "6b545c24",
   "metadata": {},
   "outputs": [],
   "source": []
  }
 ],
 "metadata": {
  "kernelspec": {
   "display_name": "Python 3",
   "language": "python",
   "name": "python3"
  },
  "language_info": {
   "codemirror_mode": {
    "name": "ipython",
    "version": 3
   },
   "file_extension": ".py",
   "mimetype": "text/x-python",
   "name": "python",
   "nbconvert_exporter": "python",
   "pygments_lexer": "ipython3",
   "version": "3.8.8"
  }
 },
 "nbformat": 4,
 "nbformat_minor": 5
}
